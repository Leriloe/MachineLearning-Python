{
 "cells": [
  {
   "cell_type": "markdown",
   "metadata": {},
   "source": [
    "# <span style='color:blue'> <center>Introduction to Statistical Analysis</center> </span>\n",
    "## **Chapter 1.** Summary Statistics\n",
    "#### by **Ivan Alducin**\n",
    "<p><img src=\"https://scx2.b-cdn.net/gfx/news/hires/2019/howtoovercom.jpg\" width=\"1500\"</p>"
   ]
  },
  {
   "cell_type": "markdown",
   "metadata": {},
   "source": [
    "## Promedio y Mediana\n",
    "<p>La tabla <code>food_consumption</code> contiene información sobre los kilogramos de alimentos consumidos por persona y por país en cada categoría de alimentos (<code>consumption</code>), así como información sobre la huella de carbono de esa categoría de alimentos (<code>co2_emissions</code>) medida en kilogramos de dióxido de carbono, por persona por año en cada país.\n",
    "\n",
    "En este ejercicio, calcularás medidas de centro (<i>mean, median</i>) para comparar el consumo de alimentos en los EE. UU. Y Bélgica</p>"
   ]
  },
  {
   "cell_type": "code",
   "execution_count": 38,
   "metadata": {},
   "outputs": [
    {
     "name": "stdout",
     "output_type": "stream",
     "text": [
      "<class 'pandas.core.frame.DataFrame'>\n",
      "RangeIndex: 1430 entries, 0 to 1429\n",
      "Data columns (total 4 columns):\n",
      " #   Column         Non-Null Count  Dtype  \n",
      "---  ------         --------------  -----  \n",
      " 0   country        1430 non-null   object \n",
      " 1   food_category  1430 non-null   object \n",
      " 2   consumption    1430 non-null   float64\n",
      " 3   co2_emission   1430 non-null   float64\n",
      "dtypes: float64(2), object(2)\n",
      "memory usage: 44.8+ KB\n"
     ]
    },
    {
     "data": {
      "text/html": [
       "<div>\n",
       "<style scoped>\n",
       "    .dataframe tbody tr th:only-of-type {\n",
       "        vertical-align: middle;\n",
       "    }\n",
       "\n",
       "    .dataframe tbody tr th {\n",
       "        vertical-align: top;\n",
       "    }\n",
       "\n",
       "    .dataframe thead th {\n",
       "        text-align: right;\n",
       "    }\n",
       "</style>\n",
       "<table border=\"1\" class=\"dataframe\">\n",
       "  <thead>\n",
       "    <tr style=\"text-align: right;\">\n",
       "      <th></th>\n",
       "      <th>consumption</th>\n",
       "      <th>co2_emission</th>\n",
       "    </tr>\n",
       "  </thead>\n",
       "  <tbody>\n",
       "    <tr>\n",
       "      <th>count</th>\n",
       "      <td>1430.000000</td>\n",
       "      <td>1430.000000</td>\n",
       "    </tr>\n",
       "    <tr>\n",
       "      <th>mean</th>\n",
       "      <td>28.110406</td>\n",
       "      <td>74.383993</td>\n",
       "    </tr>\n",
       "    <tr>\n",
       "      <th>std</th>\n",
       "      <td>49.818044</td>\n",
       "      <td>152.098566</td>\n",
       "    </tr>\n",
       "    <tr>\n",
       "      <th>min</th>\n",
       "      <td>0.000000</td>\n",
       "      <td>0.000000</td>\n",
       "    </tr>\n",
       "    <tr>\n",
       "      <th>25%</th>\n",
       "      <td>2.365000</td>\n",
       "      <td>5.210000</td>\n",
       "    </tr>\n",
       "    <tr>\n",
       "      <th>50%</th>\n",
       "      <td>8.890000</td>\n",
       "      <td>16.530000</td>\n",
       "    </tr>\n",
       "    <tr>\n",
       "      <th>75%</th>\n",
       "      <td>28.132500</td>\n",
       "      <td>62.597500</td>\n",
       "    </tr>\n",
       "    <tr>\n",
       "      <th>max</th>\n",
       "      <td>430.760000</td>\n",
       "      <td>1712.000000</td>\n",
       "    </tr>\n",
       "  </tbody>\n",
       "</table>\n",
       "</div>"
      ],
      "text/plain": [
       "       consumption  co2_emission\n",
       "count  1430.000000   1430.000000\n",
       "mean     28.110406     74.383993\n",
       "std      49.818044    152.098566\n",
       "min       0.000000      0.000000\n",
       "25%       2.365000      5.210000\n",
       "50%       8.890000     16.530000\n",
       "75%      28.132500     62.597500\n",
       "max     430.760000   1712.000000"
      ]
     },
     "execution_count": 38,
     "metadata": {},
     "output_type": "execute_result"
    }
   ],
   "source": [
    "# Importar pandas, numpy y matplotlib.pyplot\n",
    "import pandas as pd\n",
    "import numpy as np\n",
    "import matplotlib.pyplot as plt\n",
    "\n",
    "\n",
    "# Importa el archivo food_consumption.csv\n",
    "df = pd.read_csv('food_consumption.csv')\n",
    "# Head te muestra las primeras 5 filas de la base (le puedes poner el número específico a mostrar dentro de los paréntesis)\n",
    "df.head()\n",
    "\n",
    "# describe, shape (te da el data frame: #filas, #columnas), info (información en general de la base), sample(muestra aleatoria)\n",
    "df.info()\n",
    "df.shape\n",
    "#Te da todas las variables de estadística descriptiva.\n",
    "df.describe()\n",
    "\n",
    "\n"
   ]
  },
  {
   "cell_type": "code",
   "execution_count": 9,
   "metadata": {},
   "outputs": [
    {
     "data": {
      "text/html": [
       "<div>\n",
       "<style scoped>\n",
       "    .dataframe tbody tr th:only-of-type {\n",
       "        vertical-align: middle;\n",
       "    }\n",
       "\n",
       "    .dataframe tbody tr th {\n",
       "        vertical-align: top;\n",
       "    }\n",
       "\n",
       "    .dataframe thead th {\n",
       "        text-align: right;\n",
       "    }\n",
       "</style>\n",
       "<table border=\"1\" class=\"dataframe\">\n",
       "  <thead>\n",
       "    <tr style=\"text-align: right;\">\n",
       "      <th></th>\n",
       "      <th>country</th>\n",
       "      <th>food_category</th>\n",
       "      <th>consumption</th>\n",
       "      <th>co2_emission</th>\n",
       "    </tr>\n",
       "  </thead>\n",
       "  <tbody>\n",
       "    <tr>\n",
       "      <th>0</th>\n",
       "      <td>Argentina</td>\n",
       "      <td>pork</td>\n",
       "      <td>10.51</td>\n",
       "      <td>37.20</td>\n",
       "    </tr>\n",
       "    <tr>\n",
       "      <th>1</th>\n",
       "      <td>Argentina</td>\n",
       "      <td>poultry</td>\n",
       "      <td>38.66</td>\n",
       "      <td>41.53</td>\n",
       "    </tr>\n",
       "    <tr>\n",
       "      <th>2</th>\n",
       "      <td>Argentina</td>\n",
       "      <td>beef</td>\n",
       "      <td>55.48</td>\n",
       "      <td>1712.00</td>\n",
       "    </tr>\n",
       "    <tr>\n",
       "      <th>3</th>\n",
       "      <td>Argentina</td>\n",
       "      <td>lamb_goat</td>\n",
       "      <td>1.56</td>\n",
       "      <td>54.63</td>\n",
       "    </tr>\n",
       "    <tr>\n",
       "      <th>4</th>\n",
       "      <td>Argentina</td>\n",
       "      <td>fish</td>\n",
       "      <td>4.36</td>\n",
       "      <td>6.96</td>\n",
       "    </tr>\n",
       "  </tbody>\n",
       "</table>\n",
       "</div>"
      ],
      "text/plain": [
       "     country food_category  consumption  co2_emission\n",
       "0  Argentina          pork        10.51         37.20\n",
       "1  Argentina       poultry        38.66         41.53\n",
       "2  Argentina          beef        55.48       1712.00\n",
       "3  Argentina     lamb_goat         1.56         54.63\n",
       "4  Argentina          fish         4.36          6.96"
      ]
     },
     "execution_count": 9,
     "metadata": {},
     "output_type": "execute_result"
    }
   ],
   "source": [
    "df.head()"
   ]
  },
  {
   "cell_type": "code",
   "execution_count": 8,
   "metadata": {},
   "outputs": [
    {
     "name": "stdout",
     "output_type": "stream",
     "text": [
      "42.132727272727266\n",
      "12.59\n",
      "44.650000000000006\n",
      "14.58\n"
     ]
    }
   ],
   "source": [
    "# Filtrar los datos para Belgica\n",
    "bel = df[df['country']=='Belgium']\n",
    "\n",
    "# Filtrar los datos para USA\n",
    "usa = df[df['country']=='USA']\n",
    "\n",
    "# Calcula el promedio y la mediana para el consumo en Belgium\n",
    "print(np.mean(bel['consumption']))\n",
    "print(np.median(bel['consumption']))\n",
    "\n",
    "# Calcula el promedio y la mediana para el consumo en USA (con funciones de Panda)\n",
    "print(usa['consumption'].mean())\n",
    "print(usa['consumption'].median())"
   ]
  },
  {
   "cell_type": "code",
   "execution_count": 12,
   "metadata": {},
   "outputs": [
    {
     "name": "stdout",
     "output_type": "stream",
     "text": [
      "              mean  median\n",
      "country                   \n",
      "Belgium  42.132727   12.59\n",
      "USA      44.650000   14.58\n"
     ]
    }
   ],
   "source": [
    "# Filtra los datos de Belgica y USA en un mismo DataFrame (se usa or, no and)\n",
    "usa_bel = df[(df['country']=='Belgium') | (df['country']=='USA')]\n",
    "\n",
    "# Agrupa los datos por país y luego calcula la media y la mediana para el consumo (funciones Numpy)\n",
    "# Se hace lo mismo que la lìnea pasada, pero en un paso.\n",
    "print(usa_bel.groupby('country')['consumption'].agg([np.mean, np.median]))"
   ]
  },
  {
   "cell_type": "code",
   "execution_count": 14,
   "metadata": {},
   "outputs": [
    {
     "data": {
      "text/plain": [
       "<AxesSubplot:>"
      ]
     },
     "execution_count": 14,
     "metadata": {},
     "output_type": "execute_result"
    },
    {
     "data": {
      "image/png": "[encoded data removed]",
      "text/plain": [
       "<Figure size 432x288 with 1 Axes>"
      ]
     },
     "metadata": {
      "needs_background": "light"
     },
     "output_type": "display_data"
    }
   ],
   "source": [
    "# Filtra los datos únicamente para mostrar todo lo relacionado con Arroz('rice')\n",
    "rice = df[df['food_category']=='rice']\n",
    "\n",
    "# Gráfica un histograma de las emisiones de CO2 para el consumo de arroz\n",
    "# Si no se especifica la columna, va a hacer el histograma para todas las variables numéricas.\n",
    "rice['co2_emission'].hist()\n",
    "\n",
    "#Interpretaciòn: variable/distribucion muy sesgada, cargada a la izquierda.\n",
    "#Hay que quitar las variables atìpicas."
   ]
  },
  {
   "cell_type": "code",
   "execution_count": 15,
   "metadata": {},
   "outputs": [
    {
     "data": {
      "text/plain": [
       "mean      37.591615\n",
       "median    15.200000\n",
       "Name: co2_emission, dtype: float64"
      ]
     },
     "execution_count": 15,
     "metadata": {},
     "output_type": "execute_result"
    }
   ],
   "source": [
    "# Calcula la media y la mediana para las emisiones de CO2 en cosumo de arroz, usa .agg()\n",
    "#Con funciones de Panda.\n",
    "rice['co2_emission'].agg(['mean', 'median'])\n",
    "\n",
    "#Cuando hay variables sesgadas, la media y mediana son parecidas."
   ]
  },
  {
   "cell_type": "markdown",
   "metadata": {},
   "source": [
    "## Cuantiles\n",
    "<p>Los cuantiles son una excelente manera de resumir datos numéricos, ya que se pueden usar para visualizar la media y la dispersión, así como para tener una idea de dónde se encuentra un punto de datos en relación con el resto del conjunto de datos. Por ejemplo, lo podemos aplicar a la hora de ofrecer un descuento al 10% de los usuarios más activos en un sitio web.</p>"
   ]
  },
  {
   "cell_type": "code",
   "execution_count": 16,
   "metadata": {},
   "outputs": [
    {
     "data": {
      "text/plain": [
       "array([   0.    ,    5.21  ,   16.53  ,   62.5975, 1712.    ])"
      ]
     },
     "execution_count": 16,
     "metadata": {},
     "output_type": "execute_result"
    }
   ],
   "source": [
    "# Calcula los cuartiles para las emisiones de CO2\n",
    "#Cuantil 0.5 = Mediana\n",
    "\n",
    "np.quantile(df['co2_emission'],[0,0.25,0.5,0.75,1])"
   ]
  },
  {
   "cell_type": "code",
   "execution_count": 17,
   "metadata": {},
   "outputs": [
    {
     "name": "stdout",
     "output_type": "stream",
     "text": [
      "[   0.       3.54    11.026   25.59    99.978 1712.   ]\n"
     ]
    }
   ],
   "source": [
    "# Calcula los quintiles para las emisiones de CO2\n",
    "print(np.quantile(df['co2_emission'],[0,0.2,0.4,0.6,0.8,1]))"
   ]
  },
  {
   "cell_type": "code",
   "execution_count": 26,
   "metadata": {},
   "outputs": [
    {
     "name": "stdout",
     "output_type": "stream",
     "text": [
      "[0.  0.1 0.2 0.3 0.4 0.5 0.6 0.7 0.8 0.9 1. ]\n"
     ]
    },
    {
     "data": {
      "text/plain": [
       "array([[0.00000e+00, 6.68000e-01, 3.54000e+00, 7.04000e+00, 1.10260e+01,\n",
       "        1.65300e+01, 2.55900e+01, 4.42710e+01, 9.99780e+01, 2.03629e+02,\n",
       "        1.71200e+03]])"
      ]
     },
     "execution_count": 26,
     "metadata": {},
     "output_type": "execute_result"
    }
   ],
   "source": [
    "# Calcula los deciles para las emisiones de CO2\n",
    "#Para no escribir todos los deciles, se usa:\n",
    "print(np.linspace(0, 1, 11))\n",
    "np.quantile(df['co2_emission'],[np.linspace(0, 1, 11)])"
   ]
  },
  {
   "cell_type": "markdown",
   "metadata": {},
   "source": [
    "## Varianza y Desviación Estandar\n",
    "<p>La varianza y la desviación estándar son dos de las formas más comunes de medir la dispersión de una variable, La cual es importante ya que puede ayudar a definir las expectativas. Por ejemplo, si un vendedor vende una media de 20 productos al día, pero tiene una desviación estándar de 15 productos, probablemente habrá días en los que venda 40 productos, pero también días en los que solo venda uno o dos. Información como esta es importante, especialmente al hacer predicciones.</p>"
   ]
  },
  {
   "cell_type": "code",
   "execution_count": 32,
   "metadata": {},
   "outputs": [
    {
     "name": "stdout",
     "output_type": "stream",
     "text": [
      "                        var         std\n",
      "food_category                          \n",
      "beef           88748.408132  297.906710\n",
      "dairy          17671.891985  132.935669\n",
      "eggs              21.371819    4.622966\n",
      "fish             921.637349   30.358481\n",
      "lamb_goat      16475.518363  128.356996\n",
      "nuts              35.639652    5.969895\n",
      "pork            3094.963537   55.632396\n",
      "poultry          245.026801   15.653332\n",
      "rice            2281.376243   47.763754\n",
      "soybeans           0.879882    0.938020\n",
      "wheat             71.023937    8.427570\n"
     ]
    },
    {
     "data": {
      "image/png": "[encoded data removed]",
      "text/plain": [
       "<Figure size 432x288 with 1 Axes>"
      ]
     },
     "metadata": {
      "needs_background": "light"
     },
     "output_type": "display_data"
    }
   ],
   "source": [
    "# Calcular la varianza y la desviación estandar de las emisiones de CO2 por cada categría de comida\n",
    "print(df.groupby('food_category')['co2_emission'].agg([np.var,np.std]))\n",
    "\n",
    "# Crea dos histogramas para visualizar las emisiones de CO2 para las categorías de Carne de puerco('pork') y Arroz('rice')\n",
    "df[df['food_category']=='pork']['co2_emission'].hist(alpha=0.5, label='pork')\n",
    "df[df['food_category']=='rice']['co2_emission'].hist(alpha=0.5, label='rice')\n",
    "# Visualiza los histogramas\n",
    "#El alpha aclara el color de las gràficas, y label para el nombre.\n",
    "plt.legend()\n",
    "plt.show()"
   ]
  },
  {
   "cell_type": "markdown",
   "metadata": {},
   "source": [
    "## Outliers\n",
    "<p>Los valores atípicos pueden tener grandes efectos en estadísticas como la media, la varianza y la desviación estándar. El rango intercuartílico, o IQR, es otra forma de medir la dispersión y la cual está menos influenciada por valores atípicos. también se usa a menudo para encontrar valores atípicos. Si un valor es menor que <code>Q1 - 1.5 X IQR</code> o mayor que <code>Q3 + 1.5 X IQR</code>, se considera un valor atípico. De hecho, así es como se calculan las longitudes de los bigotes en un diagrama de caja de matplotlib.</p>\n",
    "<p><img src=\"https://assets.datacamp.com/production/repositories/5758/datasets/ca7e6e1832be7ec1842f62891815a9b0488efa83/Screen%20Shot%202020-04-28%20at%2010.04.54%20AM.png\" width=\"500\"/></p>"
   ]
  },
  {
   "cell_type": "code",
   "execution_count": 34,
   "metadata": {},
   "outputs": [
    {
     "data": {
      "text/plain": [
       "country\n",
       "Albania      1777.85\n",
       "Algeria       707.88\n",
       "Angola        412.99\n",
       "Argentina    2172.40\n",
       "Armenia      1109.93\n",
       "              ...   \n",
       "Uruguay      1634.91\n",
       "Venezuela    1104.10\n",
       "Vietnam       641.51\n",
       "Zambia        225.30\n",
       "Zimbabwe      350.33\n",
       "Name: co2_emission, Length: 130, dtype: float64"
      ]
     },
     "execution_count": 34,
     "metadata": {},
     "output_type": "execute_result"
    }
   ],
   "source": [
    "# Calcula el total de emisiones de CO2 por país\n",
    "emissions_by_country = df.groupby('country')['co2_emission'].sum()\n",
    "#Total de emisiones (suma)\n",
    "emissions_by_country"
   ]
  },
  {
   "cell_type": "code",
   "execution_count": 35,
   "metadata": {},
   "outputs": [],
   "source": [
    "# Caclula el cuartil 1 y 3 y después el IQR (siendo este la diferencia de los dos anteriores)\n",
    "q1 = np.quantile(emissions_by_country,0.25)\n",
    "q3 = np.quantile(emissions_by_country,0.75)\n",
    "iqr =q3-q1"
   ]
  },
  {
   "cell_type": "code",
   "execution_count": 36,
   "metadata": {},
   "outputs": [],
   "source": [
    "# Calcula los límites superiores e inferiores de los valores atípicos\n",
    "#Se estàn definiendo los lìmites para los valores que están fuera de los cuantiles 1 y 3.\n",
    "lower= q1-1.5*iqr\n",
    "upper= q3+1.5*iqr"
   ]
  },
  {
   "cell_type": "code",
   "execution_count": 39,
   "metadata": {},
   "outputs": [
    {
     "data": {
      "text/plain": [
       "country\n",
       "Argentina    2172.4\n",
       "Name: co2_emission, dtype: float64"
      ]
     },
     "execution_count": 39,
     "metadata": {},
     "output_type": "execute_result"
    }
   ],
   "source": [
    "# Filtra los países con emisiones en CO2 atípicas\n",
    "# emissions_by_country tiene la info exacta que se queria (por eso no se especifica con corchetes).\n",
    "outliers = emissions_by_country[(emissions_by_country<lower)|(emissions_by_country > upper)]\n",
    "outliers\n",
    "# | = Ctrl+Alt+1"
   ]
  }
 ],
 "metadata": {
  "kernelspec": {
   "display_name": "Python 3",
   "language": "python",
   "name": "python3"
  },
  "language_info": {
   "codemirror_mode": {
    "name": "ipython",
    "version": 3
   },
   "file_extension": ".py",
   "mimetype": "text/x-python",
   "name": "python",
   "nbconvert_exporter": "python",
   "pygments_lexer": "ipython3",
   "version": "3.8.8"
  }
 },
 "nbformat": 4,
 "nbformat_minor": 4
}
