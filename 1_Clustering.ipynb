{
  "nbformat": 4,
  "nbformat_minor": 0,
  "metadata": {
    "kernelspec": {
      "display_name": "Python 3",
      "language": "python",
      "name": "python3"
    },
    "language_info": {
      "codemirror_mode": {
        "name": "ipython",
        "version": 3
      },
      "file_extension": ".py",
      "mimetype": "text/x-python",
      "name": "python",
      "nbconvert_exporter": "python",
      "pygments_lexer": "ipython3",
      "version": "3.8.5"
    },
    "colab": {
      "name": "1. Clustering.ipynb",
      "provenance": [],
      "include_colab_link": true
    }
  },
  "cells": [
    {
      "cell_type": "markdown",
      "metadata": {
        "id": "view-in-github",
        "colab_type": "text"
      },
      "source": [
        "<a href=\"https://colab.research.google.com/github/Leriloe/MachineLearning-Python/blob/main/1_Clustering.ipynb\" target=\"_parent\"><img src=\"https://colab.research.google.com/assets/colab-badge.svg\" alt=\"Open In Colab\"/></a>"
      ]
    },
    {
      "cell_type": "markdown",
      "metadata": {
        "id": "BsiqPAvkqUVW"
      },
      "source": [
        "# <span style='color:blue'> <center>Unsupervised Learning</center> </span>\n",
        "## **Chapter 1.** Clustering\n",
        "#### by **Ivan Alducin**\n",
        "<p><img src=\"https://www.itagroup.com/sites/default/files/2019-09/The-Key-to-Successful-Segmentations.jpg\" width=\"1000\"/></p>"
      ]
    },
    {
      "cell_type": "markdown",
      "metadata": {
        "id": "0IS5V-1bqUVe"
      },
      "source": [
        "## Segmentacion de Clientes\n",
        "<p>En esté capitulo nos vamos a enfocar en entender y trabajar un caso de uso para segmentación de clientes, pero antes de eso aquí una pequeña lista de más aplicaciones que se pueden trabajar con los datos recopliados de mis clientes\n",
        "\n",
        "- Estadística Descriptiva\n",
        "- Segmentación de Clientes\n",
        "- Predicción de Abandono\n",
        "- Valor del Cliente a traves del tiempo (CTLV)\n",
        "\n",
        "La segmentación la vamos a hacer con base en una metodolgía llamada <b>RFM</b>\n",
        "\n",
        "</p>"
      ]
    },
    {
      "cell_type": "code",
      "metadata": {
        "colab": {
          "base_uri": "https://localhost:8080/",
          "height": 701
        },
        "id": "FxwzWvuWqUVg",
        "outputId": "f0f11a17-48af-461b-9f4f-2b9b087856f4"
      },
      "source": [
        "# Importa Pandas, Numpy, Seaborn y Matplotlib\n",
        "import pandas as pd\n",
        "import numpy as np\n",
        "import seaborn as sns\n",
        "import matplotlib.pyplot as plt\n",
        "\n",
        "\n",
        "# Importa el archivo \"Online Retail.csv\"\n",
        "df = pd.read_csv('Online Retail.csv', encoding='latin1')\n",
        "\n",
        "df"
      ],
      "execution_count": 4,
      "outputs": [
        {
          "output_type": "execute_result",
          "data": {
            "text/html": [
              "<div>\n",
              "<style scoped>\n",
              "    .dataframe tbody tr th:only-of-type {\n",
              "        vertical-align: middle;\n",
              "    }\n",
              "\n",
              "    .dataframe tbody tr th {\n",
              "        vertical-align: top;\n",
              "    }\n",
              "\n",
              "    .dataframe thead th {\n",
              "        text-align: right;\n",
              "    }\n",
              "</style>\n",
              "<table border=\"1\" class=\"dataframe\">\n",
              "  <thead>\n",
              "    <tr style=\"text-align: right;\">\n",
              "      <th></th>\n",
              "      <th>INVOICE_NO</th>\n",
              "      <th>STOCK_CODE</th>\n",
              "      <th>DESCRIPTION</th>\n",
              "      <th>QUANTITY</th>\n",
              "      <th>INVOICE_DATE</th>\n",
              "      <th>UNIT_PRICE</th>\n",
              "      <th>CUSTOMER_ID</th>\n",
              "      <th>REGION</th>\n",
              "    </tr>\n",
              "  </thead>\n",
              "  <tbody>\n",
              "    <tr>\n",
              "      <th>0</th>\n",
              "      <td>536365</td>\n",
              "      <td>85123A</td>\n",
              "      <td>WHITE HANGING HEART T-LIGHT HOLDER</td>\n",
              "      <td>6</td>\n",
              "      <td>01/12/2019 08:26</td>\n",
              "      <td>2.55</td>\n",
              "      <td>17850.0</td>\n",
              "      <td>United Kingdom</td>\n",
              "    </tr>\n",
              "    <tr>\n",
              "      <th>1</th>\n",
              "      <td>536365</td>\n",
              "      <td>71053</td>\n",
              "      <td>WHITE METAL LANTERN</td>\n",
              "      <td>6</td>\n",
              "      <td>01/12/2019 08:26</td>\n",
              "      <td>3.39</td>\n",
              "      <td>17850.0</td>\n",
              "      <td>United Kingdom</td>\n",
              "    </tr>\n",
              "    <tr>\n",
              "      <th>2</th>\n",
              "      <td>536365</td>\n",
              "      <td>84406B</td>\n",
              "      <td>CREAM CUPID HEARTS COAT HANGER</td>\n",
              "      <td>8</td>\n",
              "      <td>01/12/2019 08:26</td>\n",
              "      <td>2.75</td>\n",
              "      <td>17850.0</td>\n",
              "      <td>United Kingdom</td>\n",
              "    </tr>\n",
              "    <tr>\n",
              "      <th>3</th>\n",
              "      <td>536365</td>\n",
              "      <td>84029G</td>\n",
              "      <td>KNITTED UNION FLAG HOT WATER BOTTLE</td>\n",
              "      <td>6</td>\n",
              "      <td>01/12/2019 08:26</td>\n",
              "      <td>3.39</td>\n",
              "      <td>17850.0</td>\n",
              "      <td>United Kingdom</td>\n",
              "    </tr>\n",
              "    <tr>\n",
              "      <th>4</th>\n",
              "      <td>536365</td>\n",
              "      <td>84029E</td>\n",
              "      <td>RED WOOLLY HOTTIE WHITE HEART.</td>\n",
              "      <td>6</td>\n",
              "      <td>01/12/2019 08:26</td>\n",
              "      <td>3.39</td>\n",
              "      <td>17850.0</td>\n",
              "      <td>United Kingdom</td>\n",
              "    </tr>\n",
              "    <tr>\n",
              "      <th>...</th>\n",
              "      <td>...</td>\n",
              "      <td>...</td>\n",
              "      <td>...</td>\n",
              "      <td>...</td>\n",
              "      <td>...</td>\n",
              "      <td>...</td>\n",
              "      <td>...</td>\n",
              "      <td>...</td>\n",
              "    </tr>\n",
              "    <tr>\n",
              "      <th>541904</th>\n",
              "      <td>581587</td>\n",
              "      <td>22613</td>\n",
              "      <td>PACK OF 20 SPACEBOY NAPKINS</td>\n",
              "      <td>12</td>\n",
              "      <td>09/12/2020 12:50</td>\n",
              "      <td>0.85</td>\n",
              "      <td>12680.0</td>\n",
              "      <td>France</td>\n",
              "    </tr>\n",
              "    <tr>\n",
              "      <th>541905</th>\n",
              "      <td>581587</td>\n",
              "      <td>22899</td>\n",
              "      <td>CHILDREN'S APRON DOLLY GIRL</td>\n",
              "      <td>6</td>\n",
              "      <td>09/12/2020 12:50</td>\n",
              "      <td>2.10</td>\n",
              "      <td>12680.0</td>\n",
              "      <td>France</td>\n",
              "    </tr>\n",
              "    <tr>\n",
              "      <th>541906</th>\n",
              "      <td>581587</td>\n",
              "      <td>23254</td>\n",
              "      <td>CHILDRENS CUTLERY DOLLY GIRL</td>\n",
              "      <td>4</td>\n",
              "      <td>09/12/2020 12:50</td>\n",
              "      <td>4.15</td>\n",
              "      <td>12680.0</td>\n",
              "      <td>France</td>\n",
              "    </tr>\n",
              "    <tr>\n",
              "      <th>541907</th>\n",
              "      <td>581587</td>\n",
              "      <td>23255</td>\n",
              "      <td>CHILDRENS CUTLERY CIRCUS PARADE</td>\n",
              "      <td>4</td>\n",
              "      <td>09/12/2020 12:50</td>\n",
              "      <td>4.15</td>\n",
              "      <td>12680.0</td>\n",
              "      <td>France</td>\n",
              "    </tr>\n",
              "    <tr>\n",
              "      <th>541908</th>\n",
              "      <td>581587</td>\n",
              "      <td>22138</td>\n",
              "      <td>BAKING SET 9 PIECE RETROSPOT</td>\n",
              "      <td>3</td>\n",
              "      <td>09/12/2020 12:50</td>\n",
              "      <td>4.95</td>\n",
              "      <td>12680.0</td>\n",
              "      <td>France</td>\n",
              "    </tr>\n",
              "  </tbody>\n",
              "</table>\n",
              "<p>541909 rows × 8 columns</p>\n",
              "</div>"
            ],
            "text/plain": [
              "       INVOICE_NO STOCK_CODE  ... CUSTOMER_ID          REGION\n",
              "0          536365     85123A  ...     17850.0  United Kingdom\n",
              "1          536365      71053  ...     17850.0  United Kingdom\n",
              "2          536365     84406B  ...     17850.0  United Kingdom\n",
              "3          536365     84029G  ...     17850.0  United Kingdom\n",
              "4          536365     84029E  ...     17850.0  United Kingdom\n",
              "...           ...        ...  ...         ...             ...\n",
              "541904     581587      22613  ...     12680.0          France\n",
              "541905     581587      22899  ...     12680.0          France\n",
              "541906     581587      23254  ...     12680.0          France\n",
              "541907     581587      23255  ...     12680.0          France\n",
              "541908     581587      22138  ...     12680.0          France\n",
              "\n",
              "[541909 rows x 8 columns]"
            ]
          },
          "metadata": {},
          "execution_count": 4
        }
      ]
    },
    {
      "cell_type": "code",
      "metadata": {
        "colab": {
          "base_uri": "https://localhost:8080/"
        },
        "id": "KOaFOe7dqUVj",
        "outputId": "bfcc5642-585d-49c4-a6d9-3908a8f6cc56"
      },
      "source": [
        "# Análisis Exploratorio\n",
        "df.info()"
      ],
      "execution_count": 5,
      "outputs": [
        {
          "output_type": "stream",
          "name": "stdout",
          "text": [
            "<class 'pandas.core.frame.DataFrame'>\n",
            "RangeIndex: 541909 entries, 0 to 541908\n",
            "Data columns (total 8 columns):\n",
            " #   Column        Non-Null Count   Dtype  \n",
            "---  ------        --------------   -----  \n",
            " 0   INVOICE_NO    541909 non-null  object \n",
            " 1   STOCK_CODE    541909 non-null  object \n",
            " 2   DESCRIPTION   540455 non-null  object \n",
            " 3   QUANTITY      541909 non-null  int64  \n",
            " 4   INVOICE_DATE  541909 non-null  object \n",
            " 5   UNIT_PRICE    541909 non-null  float64\n",
            " 6   CUSTOMER_ID   406829 non-null  float64\n",
            " 7   REGION        541909 non-null  object \n",
            "dtypes: float64(2), int64(1), object(5)\n",
            "memory usage: 33.1+ MB\n"
          ]
        }
      ]
    },
    {
      "cell_type": "code",
      "metadata": {
        "id": "5ajPbRrRr6t4"
      },
      "source": [
        "df['INVOICE_DATE']= pd.to_datetime(df['INVOICE_DATE'])"
      ],
      "execution_count": 7,
      "outputs": []
    },
    {
      "cell_type": "markdown",
      "metadata": {
        "id": "EUK0PJ0_qUVk"
      },
      "source": [
        "## Recency\n",
        "<p>Indicador que nos dice que tan reciente es la compra de un cliente</p>"
      ]
    },
    {
      "cell_type": "code",
      "metadata": {
        "colab": {
          "base_uri": "https://localhost:8080/",
          "height": 423
        },
        "id": "-z3DIQZEqUVm",
        "outputId": "c0b2208e-b30c-4086-be36-50529f683118"
      },
      "source": [
        "# Obtener los clientes unicos\n",
        "customer = pd.DataFrame(df['CUSTOMER_ID'].unique())\n",
        "customer.columns = ['CUSTOMER_ID']\n",
        "customer"
      ],
      "execution_count": 10,
      "outputs": [
        {
          "output_type": "execute_result",
          "data": {
            "text/html": [
              "<div>\n",
              "<style scoped>\n",
              "    .dataframe tbody tr th:only-of-type {\n",
              "        vertical-align: middle;\n",
              "    }\n",
              "\n",
              "    .dataframe tbody tr th {\n",
              "        vertical-align: top;\n",
              "    }\n",
              "\n",
              "    .dataframe thead th {\n",
              "        text-align: right;\n",
              "    }\n",
              "</style>\n",
              "<table border=\"1\" class=\"dataframe\">\n",
              "  <thead>\n",
              "    <tr style=\"text-align: right;\">\n",
              "      <th></th>\n",
              "      <th>CUSTOMER_ID</th>\n",
              "    </tr>\n",
              "  </thead>\n",
              "  <tbody>\n",
              "    <tr>\n",
              "      <th>0</th>\n",
              "      <td>17850.0</td>\n",
              "    </tr>\n",
              "    <tr>\n",
              "      <th>1</th>\n",
              "      <td>13047.0</td>\n",
              "    </tr>\n",
              "    <tr>\n",
              "      <th>2</th>\n",
              "      <td>12583.0</td>\n",
              "    </tr>\n",
              "    <tr>\n",
              "      <th>3</th>\n",
              "      <td>13748.0</td>\n",
              "    </tr>\n",
              "    <tr>\n",
              "      <th>4</th>\n",
              "      <td>15100.0</td>\n",
              "    </tr>\n",
              "    <tr>\n",
              "      <th>...</th>\n",
              "      <td>...</td>\n",
              "    </tr>\n",
              "    <tr>\n",
              "      <th>4368</th>\n",
              "      <td>13436.0</td>\n",
              "    </tr>\n",
              "    <tr>\n",
              "      <th>4369</th>\n",
              "      <td>15520.0</td>\n",
              "    </tr>\n",
              "    <tr>\n",
              "      <th>4370</th>\n",
              "      <td>13298.0</td>\n",
              "    </tr>\n",
              "    <tr>\n",
              "      <th>4371</th>\n",
              "      <td>14569.0</td>\n",
              "    </tr>\n",
              "    <tr>\n",
              "      <th>4372</th>\n",
              "      <td>12713.0</td>\n",
              "    </tr>\n",
              "  </tbody>\n",
              "</table>\n",
              "<p>4373 rows × 1 columns</p>\n",
              "</div>"
            ],
            "text/plain": [
              "      CUSTOMER_ID\n",
              "0         17850.0\n",
              "1         13047.0\n",
              "2         12583.0\n",
              "3         13748.0\n",
              "4         15100.0\n",
              "...           ...\n",
              "4368      13436.0\n",
              "4369      15520.0\n",
              "4370      13298.0\n",
              "4371      14569.0\n",
              "4372      12713.0\n",
              "\n",
              "[4373 rows x 1 columns]"
            ]
          },
          "metadata": {},
          "execution_count": 10
        }
      ]
    },
    {
      "cell_type": "code",
      "metadata": {
        "colab": {
          "base_uri": "https://localhost:8080/",
          "height": 423
        },
        "id": "waDFfFl0qUVn",
        "outputId": "a60c5f9d-39de-49be-f489-ce03d59639c8"
      },
      "source": [
        "# Obtener la última fecha de compra por cliente\n",
        "max_purchase = df.groupby('CUSTOMER_ID')['INVOICE_DATE'].max().reset_index()\n",
        "max_purchase.columns = ['CUSTOMER_ID','MAX_PURCHASE_DATE']\n",
        "max_purchase"
      ],
      "execution_count": 17,
      "outputs": [
        {
          "output_type": "execute_result",
          "data": {
            "text/html": [
              "<div>\n",
              "<style scoped>\n",
              "    .dataframe tbody tr th:only-of-type {\n",
              "        vertical-align: middle;\n",
              "    }\n",
              "\n",
              "    .dataframe tbody tr th {\n",
              "        vertical-align: top;\n",
              "    }\n",
              "\n",
              "    .dataframe thead th {\n",
              "        text-align: right;\n",
              "    }\n",
              "</style>\n",
              "<table border=\"1\" class=\"dataframe\">\n",
              "  <thead>\n",
              "    <tr style=\"text-align: right;\">\n",
              "      <th></th>\n",
              "      <th>CUSTOMER_ID</th>\n",
              "      <th>MAX_PURCHASE_DATE</th>\n",
              "    </tr>\n",
              "  </thead>\n",
              "  <tbody>\n",
              "    <tr>\n",
              "      <th>0</th>\n",
              "      <td>12346.0</td>\n",
              "      <td>2020-01-18 10:17:00</td>\n",
              "    </tr>\n",
              "    <tr>\n",
              "      <th>1</th>\n",
              "      <td>12347.0</td>\n",
              "      <td>2020-10-31 12:25:00</td>\n",
              "    </tr>\n",
              "    <tr>\n",
              "      <th>2</th>\n",
              "      <td>12348.0</td>\n",
              "      <td>2020-09-25 13:13:00</td>\n",
              "    </tr>\n",
              "    <tr>\n",
              "      <th>3</th>\n",
              "      <td>12349.0</td>\n",
              "      <td>2020-11-21 09:51:00</td>\n",
              "    </tr>\n",
              "    <tr>\n",
              "      <th>4</th>\n",
              "      <td>12350.0</td>\n",
              "      <td>2020-02-02 16:01:00</td>\n",
              "    </tr>\n",
              "    <tr>\n",
              "      <th>...</th>\n",
              "      <td>...</td>\n",
              "      <td>...</td>\n",
              "    </tr>\n",
              "    <tr>\n",
              "      <th>4367</th>\n",
              "      <td>18280.0</td>\n",
              "      <td>2020-07-03 09:52:00</td>\n",
              "    </tr>\n",
              "    <tr>\n",
              "      <th>4368</th>\n",
              "      <td>18281.0</td>\n",
              "      <td>2020-12-06 10:53:00</td>\n",
              "    </tr>\n",
              "    <tr>\n",
              "      <th>4369</th>\n",
              "      <td>18282.0</td>\n",
              "      <td>2020-09-08 15:10:00</td>\n",
              "    </tr>\n",
              "    <tr>\n",
              "      <th>4370</th>\n",
              "      <td>18283.0</td>\n",
              "      <td>2020-11-30 12:59:00</td>\n",
              "    </tr>\n",
              "    <tr>\n",
              "      <th>4371</th>\n",
              "      <td>18287.0</td>\n",
              "      <td>2020-12-10 10:23:00</td>\n",
              "    </tr>\n",
              "  </tbody>\n",
              "</table>\n",
              "<p>4372 rows × 2 columns</p>\n",
              "</div>"
            ],
            "text/plain": [
              "      CUSTOMER_ID   MAX_PURCHASE_DATE\n",
              "0         12346.0 2020-01-18 10:17:00\n",
              "1         12347.0 2020-10-31 12:25:00\n",
              "2         12348.0 2020-09-25 13:13:00\n",
              "3         12349.0 2020-11-21 09:51:00\n",
              "4         12350.0 2020-02-02 16:01:00\n",
              "...           ...                 ...\n",
              "4367      18280.0 2020-07-03 09:52:00\n",
              "4368      18281.0 2020-12-06 10:53:00\n",
              "4369      18282.0 2020-09-08 15:10:00\n",
              "4370      18283.0 2020-11-30 12:59:00\n",
              "4371      18287.0 2020-12-10 10:23:00\n",
              "\n",
              "[4372 rows x 2 columns]"
            ]
          },
          "metadata": {},
          "execution_count": 17
        }
      ]
    },
    {
      "cell_type": "code",
      "metadata": {
        "colab": {
          "base_uri": "https://localhost:8080/",
          "height": 206
        },
        "id": "N5IeiXA5qUVo",
        "outputId": "c7f04f7a-f042-4adb-fc74-356a21fbdca7"
      },
      "source": [
        "# Vamos a calcular nuestra metrica de Recency, esto lo haremos restando los días de la última fecha de compra a cada observacón\n",
        "max_purchase['RECENCY'] = (max_purchase['MAX_PURCHASE_DATE'].max()-max_purchase['MAX_PURCHASE_DATE']).dt.days\n",
        "max_purchase.head()"
      ],
      "execution_count": 19,
      "outputs": [
        {
          "output_type": "execute_result",
          "data": {
            "text/html": [
              "<div>\n",
              "<style scoped>\n",
              "    .dataframe tbody tr th:only-of-type {\n",
              "        vertical-align: middle;\n",
              "    }\n",
              "\n",
              "    .dataframe tbody tr th {\n",
              "        vertical-align: top;\n",
              "    }\n",
              "\n",
              "    .dataframe thead th {\n",
              "        text-align: right;\n",
              "    }\n",
              "</style>\n",
              "<table border=\"1\" class=\"dataframe\">\n",
              "  <thead>\n",
              "    <tr style=\"text-align: right;\">\n",
              "      <th></th>\n",
              "      <th>CUSTOMER_ID</th>\n",
              "      <th>MAX_PURCHASE_DATE</th>\n",
              "      <th>RECENCY</th>\n",
              "    </tr>\n",
              "  </thead>\n",
              "  <tbody>\n",
              "    <tr>\n",
              "      <th>0</th>\n",
              "      <td>12346.0</td>\n",
              "      <td>2020-01-18 10:17:00</td>\n",
              "      <td>327</td>\n",
              "    </tr>\n",
              "    <tr>\n",
              "      <th>1</th>\n",
              "      <td>12347.0</td>\n",
              "      <td>2020-10-31 12:25:00</td>\n",
              "      <td>40</td>\n",
              "    </tr>\n",
              "    <tr>\n",
              "      <th>2</th>\n",
              "      <td>12348.0</td>\n",
              "      <td>2020-09-25 13:13:00</td>\n",
              "      <td>76</td>\n",
              "    </tr>\n",
              "    <tr>\n",
              "      <th>3</th>\n",
              "      <td>12349.0</td>\n",
              "      <td>2020-11-21 09:51:00</td>\n",
              "      <td>19</td>\n",
              "    </tr>\n",
              "    <tr>\n",
              "      <th>4</th>\n",
              "      <td>12350.0</td>\n",
              "      <td>2020-02-02 16:01:00</td>\n",
              "      <td>312</td>\n",
              "    </tr>\n",
              "  </tbody>\n",
              "</table>\n",
              "</div>"
            ],
            "text/plain": [
              "   CUSTOMER_ID   MAX_PURCHASE_DATE  RECENCY\n",
              "0      12346.0 2020-01-18 10:17:00      327\n",
              "1      12347.0 2020-10-31 12:25:00       40\n",
              "2      12348.0 2020-09-25 13:13:00       76\n",
              "3      12349.0 2020-11-21 09:51:00       19\n",
              "4      12350.0 2020-02-02 16:01:00      312"
            ]
          },
          "metadata": {},
          "execution_count": 19
        }
      ]
    },
    {
      "cell_type": "code",
      "metadata": {
        "colab": {
          "base_uri": "https://localhost:8080/",
          "height": 206
        },
        "id": "FnmjoSkcqUVq",
        "outputId": "b722a600-1490-41f3-b3d1-1d870667ba72"
      },
      "source": [
        "# Unir el DataFrame de clientes únicos con el que acabamos de crear de la última fecha de compra\n",
        "customer = pd.merge(customer, max_purchase, on = 'CUSTOMER_ID')\n",
        "customer.head()"
      ],
      "execution_count": 20,
      "outputs": [
        {
          "output_type": "execute_result",
          "data": {
            "text/html": [
              "<div>\n",
              "<style scoped>\n",
              "    .dataframe tbody tr th:only-of-type {\n",
              "        vertical-align: middle;\n",
              "    }\n",
              "\n",
              "    .dataframe tbody tr th {\n",
              "        vertical-align: top;\n",
              "    }\n",
              "\n",
              "    .dataframe thead th {\n",
              "        text-align: right;\n",
              "    }\n",
              "</style>\n",
              "<table border=\"1\" class=\"dataframe\">\n",
              "  <thead>\n",
              "    <tr style=\"text-align: right;\">\n",
              "      <th></th>\n",
              "      <th>CUSTOMER_ID</th>\n",
              "      <th>MAX_PURCHASE_DATE</th>\n",
              "      <th>RECENCY</th>\n",
              "    </tr>\n",
              "  </thead>\n",
              "  <tbody>\n",
              "    <tr>\n",
              "      <th>0</th>\n",
              "      <td>17850.0</td>\n",
              "      <td>2020-10-02 14:38:00</td>\n",
              "      <td>69</td>\n",
              "    </tr>\n",
              "    <tr>\n",
              "      <th>1</th>\n",
              "      <td>13047.0</td>\n",
              "      <td>2020-10-24 14:02:00</td>\n",
              "      <td>47</td>\n",
              "    </tr>\n",
              "    <tr>\n",
              "      <th>2</th>\n",
              "      <td>12583.0</td>\n",
              "      <td>2020-12-10 14:46:00</td>\n",
              "      <td>0</td>\n",
              "    </tr>\n",
              "    <tr>\n",
              "      <th>3</th>\n",
              "      <td>13748.0</td>\n",
              "      <td>2020-07-04 10:13:00</td>\n",
              "      <td>159</td>\n",
              "    </tr>\n",
              "    <tr>\n",
              "      <th>4</th>\n",
              "      <td>15100.0</td>\n",
              "      <td>2020-10-01 10:35:00</td>\n",
              "      <td>70</td>\n",
              "    </tr>\n",
              "  </tbody>\n",
              "</table>\n",
              "</div>"
            ],
            "text/plain": [
              "   CUSTOMER_ID   MAX_PURCHASE_DATE  RECENCY\n",
              "0      17850.0 2020-10-02 14:38:00       69\n",
              "1      13047.0 2020-10-24 14:02:00       47\n",
              "2      12583.0 2020-12-10 14:46:00        0\n",
              "3      13748.0 2020-07-04 10:13:00      159\n",
              "4      15100.0 2020-10-01 10:35:00       70"
            ]
          },
          "metadata": {},
          "execution_count": 20
        }
      ]
    },
    {
      "cell_type": "code",
      "metadata": {
        "colab": {
          "base_uri": "https://localhost:8080/",
          "height": 571
        },
        "id": "n76vZ5-YqUVr",
        "outputId": "e4228441-97cb-4537-cb82-c6978ffd33ee"
      },
      "source": [
        "# Grafica un histograma de Recency\n",
        "f, ax = plt.subplots(figsize=(16,8))\n",
        "sns.distplot(customer['RECENCY'])"
      ],
      "execution_count": 21,
      "outputs": [
        {
          "output_type": "stream",
          "name": "stderr",
          "text": [
            "/usr/local/lib/python3.7/dist-packages/seaborn/distributions.py:2619: FutureWarning: `distplot` is a deprecated function and will be removed in a future version. Please adapt your code to use either `displot` (a figure-level function with similar flexibility) or `histplot` (an axes-level function for histograms).\n",
            "  warnings.warn(msg, FutureWarning)\n"
          ]
        },
        {
          "output_type": "execute_result",
          "data": {
            "text/plain": [
              "<matplotlib.axes._subplots.AxesSubplot at 0x7f35f2d8b750>"
            ]
          },
          "metadata": {},
          "execution_count": 21
        },
        {
          "output_type": "display_data",
          "data": {
            "image/png": "[encoded data removed]",
            "text/plain": [
              "<Figure size 1152x576 with 1 Axes>"
            ]
          },
          "metadata": {
            "needs_background": "light"
          }
        }
      ]
    },
    {
      "cell_type": "markdown",
      "metadata": {
        "id": "2jNcF-hixciw"
      },
      "source": [
        "Todos los clientes están comprando en los últimos 3 meses, por lo que es una cartera sana: los clientes son fieles al producto."
      ]
    },
    {
      "cell_type": "code",
      "metadata": {
        "colab": {
          "base_uri": "https://localhost:8080/"
        },
        "id": "dtoDPte3qUVs",
        "outputId": "216bd5b2-2afa-4124-b6dd-c9985e6f977f"
      },
      "source": [
        "# Imprime la Estadística de Resumen para Recency\n",
        "customer['RECENCY'].describe()"
      ],
      "execution_count": 22,
      "outputs": [
        {
          "output_type": "execute_result",
          "data": {
            "text/plain": [
              "count    4372.000000\n",
              "mean      101.024016\n",
              "std       114.118209\n",
              "min         0.000000\n",
              "25%        20.000000\n",
              "50%        57.000000\n",
              "75%       152.000000\n",
              "max       698.000000\n",
              "Name: RECENCY, dtype: float64"
            ]
          },
          "metadata": {},
          "execution_count": 22
        }
      ]
    },
    {
      "cell_type": "markdown",
      "metadata": {
        "id": "YsucThYlqUVt"
      },
      "source": [
        "## Frequency\n",
        "<p>Frecuencia con la que un cliente compra uno o más productos</p>"
      ]
    },
    {
      "cell_type": "code",
      "metadata": {
        "colab": {
          "base_uri": "https://localhost:8080/",
          "height": 423
        },
        "id": "_wj1O3zCqUVu",
        "outputId": "d6a0447f-0618-41e8-a8e1-d1cd1412e80b"
      },
      "source": [
        "# Obtener el número de compras por cliente\n",
        "frequency = df.groupby('CUSTOMER_ID')['INVOICE_DATE'].count().reset_index()\n",
        "frequency.columns = ['CUSTOMER_ID','FREQUENCY']\n",
        "frequency"
      ],
      "execution_count": 33,
      "outputs": [
        {
          "output_type": "execute_result",
          "data": {
            "text/html": [
              "<div>\n",
              "<style scoped>\n",
              "    .dataframe tbody tr th:only-of-type {\n",
              "        vertical-align: middle;\n",
              "    }\n",
              "\n",
              "    .dataframe tbody tr th {\n",
              "        vertical-align: top;\n",
              "    }\n",
              "\n",
              "    .dataframe thead th {\n",
              "        text-align: right;\n",
              "    }\n",
              "</style>\n",
              "<table border=\"1\" class=\"dataframe\">\n",
              "  <thead>\n",
              "    <tr style=\"text-align: right;\">\n",
              "      <th></th>\n",
              "      <th>CUSTOMER_ID</th>\n",
              "      <th>FREQUENCY</th>\n",
              "    </tr>\n",
              "  </thead>\n",
              "  <tbody>\n",
              "    <tr>\n",
              "      <th>0</th>\n",
              "      <td>12346.0</td>\n",
              "      <td>2</td>\n",
              "    </tr>\n",
              "    <tr>\n",
              "      <th>1</th>\n",
              "      <td>12347.0</td>\n",
              "      <td>182</td>\n",
              "    </tr>\n",
              "    <tr>\n",
              "      <th>2</th>\n",
              "      <td>12348.0</td>\n",
              "      <td>31</td>\n",
              "    </tr>\n",
              "    <tr>\n",
              "      <th>3</th>\n",
              "      <td>12349.0</td>\n",
              "      <td>73</td>\n",
              "    </tr>\n",
              "    <tr>\n",
              "      <th>4</th>\n",
              "      <td>12350.0</td>\n",
              "      <td>17</td>\n",
              "    </tr>\n",
              "    <tr>\n",
              "      <th>...</th>\n",
              "      <td>...</td>\n",
              "      <td>...</td>\n",
              "    </tr>\n",
              "    <tr>\n",
              "      <th>4367</th>\n",
              "      <td>18280.0</td>\n",
              "      <td>10</td>\n",
              "    </tr>\n",
              "    <tr>\n",
              "      <th>4368</th>\n",
              "      <td>18281.0</td>\n",
              "      <td>7</td>\n",
              "    </tr>\n",
              "    <tr>\n",
              "      <th>4369</th>\n",
              "      <td>18282.0</td>\n",
              "      <td>13</td>\n",
              "    </tr>\n",
              "    <tr>\n",
              "      <th>4370</th>\n",
              "      <td>18283.0</td>\n",
              "      <td>756</td>\n",
              "    </tr>\n",
              "    <tr>\n",
              "      <th>4371</th>\n",
              "      <td>18287.0</td>\n",
              "      <td>70</td>\n",
              "    </tr>\n",
              "  </tbody>\n",
              "</table>\n",
              "<p>4372 rows × 2 columns</p>\n",
              "</div>"
            ],
            "text/plain": [
              "      CUSTOMER_ID  FREQUENCY\n",
              "0         12346.0          2\n",
              "1         12347.0        182\n",
              "2         12348.0         31\n",
              "3         12349.0         73\n",
              "4         12350.0         17\n",
              "...           ...        ...\n",
              "4367      18280.0         10\n",
              "4368      18281.0          7\n",
              "4369      18282.0         13\n",
              "4370      18283.0        756\n",
              "4371      18287.0         70\n",
              "\n",
              "[4372 rows x 2 columns]"
            ]
          },
          "metadata": {},
          "execution_count": 33
        }
      ]
    },
    {
      "cell_type": "code",
      "metadata": {
        "colab": {
          "base_uri": "https://localhost:8080/",
          "height": 206
        },
        "id": "VRZC1F0aqUVv",
        "outputId": "47b4b2db-f5fc-44a3-c724-bcd3e7babef7"
      },
      "source": [
        "# Unir el DataFrame que acabamos de crear con el de los clientes unicos\n",
        "customer = pd.merge(customer,frequency,on='CUSTOMER_ID')\n",
        "customer.head()"
      ],
      "execution_count": 35,
      "outputs": [
        {
          "output_type": "execute_result",
          "data": {
            "text/html": [
              "<div>\n",
              "<style scoped>\n",
              "    .dataframe tbody tr th:only-of-type {\n",
              "        vertical-align: middle;\n",
              "    }\n",
              "\n",
              "    .dataframe tbody tr th {\n",
              "        vertical-align: top;\n",
              "    }\n",
              "\n",
              "    .dataframe thead th {\n",
              "        text-align: right;\n",
              "    }\n",
              "</style>\n",
              "<table border=\"1\" class=\"dataframe\">\n",
              "  <thead>\n",
              "    <tr style=\"text-align: right;\">\n",
              "      <th></th>\n",
              "      <th>CUSTOMER_ID</th>\n",
              "      <th>MAX_PURCHASE_DATE</th>\n",
              "      <th>RECENCY</th>\n",
              "      <th>FRECUENCY</th>\n",
              "      <th>FREQUENCY</th>\n",
              "    </tr>\n",
              "  </thead>\n",
              "  <tbody>\n",
              "    <tr>\n",
              "      <th>0</th>\n",
              "      <td>17850.0</td>\n",
              "      <td>2020-10-02 14:38:00</td>\n",
              "      <td>69</td>\n",
              "      <td>312</td>\n",
              "      <td>312</td>\n",
              "    </tr>\n",
              "    <tr>\n",
              "      <th>1</th>\n",
              "      <td>13047.0</td>\n",
              "      <td>2020-10-24 14:02:00</td>\n",
              "      <td>47</td>\n",
              "      <td>196</td>\n",
              "      <td>196</td>\n",
              "    </tr>\n",
              "    <tr>\n",
              "      <th>2</th>\n",
              "      <td>12583.0</td>\n",
              "      <td>2020-12-10 14:46:00</td>\n",
              "      <td>0</td>\n",
              "      <td>251</td>\n",
              "      <td>251</td>\n",
              "    </tr>\n",
              "    <tr>\n",
              "      <th>3</th>\n",
              "      <td>13748.0</td>\n",
              "      <td>2020-07-04 10:13:00</td>\n",
              "      <td>159</td>\n",
              "      <td>28</td>\n",
              "      <td>28</td>\n",
              "    </tr>\n",
              "    <tr>\n",
              "      <th>4</th>\n",
              "      <td>15100.0</td>\n",
              "      <td>2020-10-01 10:35:00</td>\n",
              "      <td>70</td>\n",
              "      <td>6</td>\n",
              "      <td>6</td>\n",
              "    </tr>\n",
              "  </tbody>\n",
              "</table>\n",
              "</div>"
            ],
            "text/plain": [
              "   CUSTOMER_ID   MAX_PURCHASE_DATE  RECENCY  FRECUENCY  FREQUENCY\n",
              "0      17850.0 2020-10-02 14:38:00       69        312        312\n",
              "1      13047.0 2020-10-24 14:02:00       47        196        196\n",
              "2      12583.0 2020-12-10 14:46:00        0        251        251\n",
              "3      13748.0 2020-07-04 10:13:00      159         28         28\n",
              "4      15100.0 2020-10-01 10:35:00       70          6          6"
            ]
          },
          "metadata": {},
          "execution_count": 35
        }
      ]
    },
    {
      "cell_type": "code",
      "metadata": {
        "colab": {
          "base_uri": "https://localhost:8080/",
          "height": 533
        },
        "id": "yiqrgIAPqUVw",
        "outputId": "5f481756-c368-4f2d-af3d-55c862b510c3"
      },
      "source": [
        "# Grafica un histograma de Frequency\n",
        "f, ax = plt.subplots(figsize=(16,8))\n",
        "sns.distplot(customer['FREQUENCY'].where(lambda x: x<2000))\n",
        "ax.set_title('Frequency Histogram')"
      ],
      "execution_count": 39,
      "outputs": [
        {
          "output_type": "stream",
          "name": "stderr",
          "text": [
            "/usr/local/lib/python3.7/dist-packages/seaborn/distributions.py:2619: FutureWarning: `distplot` is a deprecated function and will be removed in a future version. Please adapt your code to use either `displot` (a figure-level function with similar flexibility) or `histplot` (an axes-level function for histograms).\n",
            "  warnings.warn(msg, FutureWarning)\n"
          ]
        },
        {
          "output_type": "execute_result",
          "data": {
            "text/plain": [
              "Text(0.5, 1.0, 'Frequency Histogram')"
            ]
          },
          "metadata": {},
          "execution_count": 39
        },
        {
          "output_type": "display_data",
          "data": {
            "image/png": "[encoded data removed]",
            "text/plain": [
              "<Figure size 1152x576 with 1 Axes>"
            ]
          },
          "metadata": {
            "needs_background": "light"
          }
        }
      ]
    },
    {
      "cell_type": "code",
      "metadata": {
        "colab": {
          "base_uri": "https://localhost:8080/"
        },
        "id": "37nSrSTcqUVw",
        "outputId": "2372e9ed-e7ea-4229-8708-52274c20cf12"
      },
      "source": [
        "# Imprime la Estadística de Resumen para Frequency\n",
        "customer['FREQUENCY'].describe()"
      ],
      "execution_count": 40,
      "outputs": [
        {
          "output_type": "execute_result",
          "data": {
            "text/plain": [
              "count    4372.000000\n",
              "mean       93.053294\n",
              "std       232.471608\n",
              "min         1.000000\n",
              "25%        17.000000\n",
              "50%        42.000000\n",
              "75%       102.000000\n",
              "max      7983.000000\n",
              "Name: FREQUENCY, dtype: float64"
            ]
          },
          "metadata": {},
          "execution_count": 40
        }
      ]
    },
    {
      "cell_type": "markdown",
      "metadata": {
        "id": "GhlYtCG2qUVx"
      },
      "source": [
        "## Monetary\n",
        "<p>Valor del monto total que ha gastado un cliente en la compra de mis productos</p>"
      ]
    },
    {
      "cell_type": "code",
      "metadata": {
        "id": "RdhngdWlqUVy"
      },
      "source": [
        "# Calcular el monto total por cada compra\n",
        "df['MONETARY'] = df['UNIT_PRICE'] * df['QUANTITY']\n",
        "\n",
        "# Obtener el valor monetario de compra por cliente\n",
        "monetary = df.groupby('CUSTOMER_ID')['MONETARY'].sum().reset_index()"
      ],
      "execution_count": 41,
      "outputs": []
    },
    {
      "cell_type": "code",
      "metadata": {
        "id": "gP0HL4dpqUVy"
      },
      "source": [
        "# Unir el DataFrame que acabamos de crear con el de los clientes unicos\n",
        "customer = pd.merge(customer,monetary,on='CUSTOMER_ID')"
      ],
      "execution_count": 42,
      "outputs": []
    },
    {
      "cell_type": "code",
      "metadata": {
        "colab": {
          "base_uri": "https://localhost:8080/",
          "height": 585
        },
        "id": "Pk1GPmszqUVy",
        "outputId": "b5528bab-2ad8-4bab-c987-c446c469ddf0"
      },
      "source": [
        "# Grafica un histograma de Monetary\n",
        "f, ax = plt.subplots(figsize=(16,8))\n",
        "sns.distplot(customer['MONETARY'])\n",
        "ax.set_title('Monetary Histogram')"
      ],
      "execution_count": 43,
      "outputs": [
        {
          "output_type": "stream",
          "name": "stderr",
          "text": [
            "/usr/local/lib/python3.7/dist-packages/seaborn/distributions.py:2619: FutureWarning: `distplot` is a deprecated function and will be removed in a future version. Please adapt your code to use either `displot` (a figure-level function with similar flexibility) or `histplot` (an axes-level function for histograms).\n",
            "  warnings.warn(msg, FutureWarning)\n"
          ]
        },
        {
          "output_type": "execute_result",
          "data": {
            "text/plain": [
              "Text(0.5, 1.0, 'Monetary Histogram')"
            ]
          },
          "metadata": {},
          "execution_count": 43
        },
        {
          "output_type": "display_data",
          "data": {
            "image/png": "[encoded data removed]",
            "text/plain": [
              "<Figure size 1152x576 with 1 Axes>"
            ]
          },
          "metadata": {
            "needs_background": "light"
          }
        }
      ]
    },
    {
      "cell_type": "code",
      "metadata": {
        "colab": {
          "base_uri": "https://localhost:8080/"
        },
        "id": "epHcXWIfqUVz",
        "outputId": "f1e7dfdb-051c-4500-ca10-020901af6301"
      },
      "source": [
        "# Imprime la Estadística de Resumen para Monetary\n",
        "customer['MONETARY'].describe()"
      ],
      "execution_count": 44,
      "outputs": [
        {
          "output_type": "execute_result",
          "data": {
            "text/plain": [
              "count      4372.000000\n",
              "mean       1898.459701\n",
              "std        8219.345141\n",
              "min       -4287.630000\n",
              "25%         293.362500\n",
              "50%         648.075000\n",
              "75%        1611.725000\n",
              "max      279489.020000\n",
              "Name: MONETARY, dtype: float64"
            ]
          },
          "metadata": {},
          "execution_count": 44
        }
      ]
    },
    {
      "cell_type": "markdown",
      "metadata": {
        "id": "8z4jmrYQqUVz"
      },
      "source": [
        "## Algoritmo k-Means\n",
        "<p>Ya creamos nuestros indicadores principales de la metodología RFM. es hora de hacer <i>Machine Learning</i>. Para ello utilizaremos un algoritmo no supervisado llamado <b>k-Means</b></p>\n",
        "<p><img src=\"https://miro.medium.com/max/818/1*fG8u8nV7qR91wDyFDEEV-g.png\" width=\"250\"/></p>"
      ]
    },
    {
      "cell_type": "code",
      "metadata": {
        "id": "YVdwzgkdqUV0"
      },
      "source": [
        "# Funcion para ordenar los clusters\n",
        "def order_cluster(cluster_field_name, target_field_name, df, ascending):\n",
        "    new_cluster_field_name = 'new_' + cluster_field_name\n",
        "    df_new = df.groupby(cluster_field_name)[target_field_name].mean().reset_index()\n",
        "    df_new = df_new.sort_values(by=target_field_name,ascending=ascending).reset_index(drop=True)\n",
        "    df_new['index'] = df_new.index\n",
        "    df_final = pd.merge(df,df_new[[cluster_field_name,'index']], on=cluster_field_name)\n",
        "    df_final = df_final.drop([cluster_field_name],axis=1)\n",
        "    df_final = df_final.rename(columns={\"index\":cluster_field_name})\n",
        "    return df_final"
      ],
      "execution_count": null,
      "outputs": []
    },
    {
      "cell_type": "markdown",
      "metadata": {
        "id": "Wq7hsFAZqUV1"
      },
      "source": [
        "## Elbow Method\n",
        "<p>¿Cual es mi número óptimo de clusters? Vamos a contruir una <i>gráfica de codo</i> para averiguarlo</p>"
      ]
    },
    {
      "cell_type": "code",
      "metadata": {
        "id": "RKDBOAvLqUV1"
      },
      "source": [
        "# Importa la librería de kMeans\n",
        "____"
      ],
      "execution_count": null,
      "outputs": []
    },
    {
      "cell_type": "code",
      "metadata": {
        "id": "xm8xN5nrqUV2"
      },
      "source": [
        "# Configuración inicial - Vamos a tomar como referencia el indicador de Recency\n",
        "sse={}\n",
        "recency = ____\n",
        "\n",
        "for k in range(1, 10):\n",
        "    # Instancia el algoritmo de k-means iterando sobre k\n",
        "    kmeans = ____\n",
        "    \n",
        "    # Entrena el algoritmo\n",
        "    ____\n",
        "    \n",
        "    # Adjunta las etiquetas\n",
        "    recency[\"clusters\"] = ____\n",
        "    \n",
        "    # Adunta la inercia o variación al arreglo sse\n",
        "    sse[k] = ____\n",
        "    \n",
        "# Grafico de codo (Elbow)\n",
        "plt.figure(figsize=(12,8))\n",
        "plt.plot(list(sse.keys()), list(sse.values()))\n",
        "plt.xlabel(\"Number of cluster\")\n",
        "plt.show()"
      ],
      "execution_count": null,
      "outputs": []
    },
    {
      "cell_type": "code",
      "metadata": {
        "id": "qbHdKxtAqUV2"
      },
      "source": [
        "# Instanciar el algoritmo con 4 clusters para Recency \n",
        "kmeans = ____\n",
        "\n",
        "# Entrenar el algoritmo\n",
        "____\n",
        "\n",
        "# Obtener las predicciones\n",
        "customer['RECENCY_CLUSTER'] = ____\n",
        "\n",
        "# Ordenar los clusters\n",
        "customer = order_cluster('RECENCY_CLUSTER', 'RECENCY', customer, False)\n",
        "\n",
        "# Estadística Descriptiva del cluster creado\n",
        "customer.groupby(____)[____].____()"
      ],
      "execution_count": null,
      "outputs": []
    },
    {
      "cell_type": "code",
      "metadata": {
        "id": "8I1Fy8pCqUV3"
      },
      "source": [
        "# Instanciar el algoritmo con 4 clusters para Frequency \n",
        "kmeans = ____\n",
        "\n",
        "# Entrenar el algoritmo\n",
        "____\n",
        "\n",
        "# Obtener las predicciones\n",
        "customer['FREQUENCY_CLUSTER'] = ____\n",
        "\n",
        "# Ordenar los clusters\n",
        "customer = order_cluster('FREQUENCY_CLUSTER', 'FREQUENCY', customer, True)\n",
        "\n",
        "# Estadística Descriptiva de los clusters\n",
        "____"
      ],
      "execution_count": null,
      "outputs": []
    },
    {
      "cell_type": "code",
      "metadata": {
        "id": "YlG0DhO2qUV3"
      },
      "source": [
        "# Instanciar el algoritmo con 4 clusters para Monetary \n",
        "kmeans = ____\n",
        "\n",
        "# Entrenar el algoritmo\n",
        "____\n",
        "\n",
        "# Obtener las predicciones\n",
        "customer['MONETARY_CLUSTER'] = ____\n",
        "\n",
        "# Ordenar los clusters ¿Como tienes que ordenar el cluster?\n",
        "customer = ____\n",
        "\n",
        "# Estadística Descriptiva de los clusters\n",
        "____"
      ],
      "execution_count": null,
      "outputs": []
    },
    {
      "cell_type": "markdown",
      "metadata": {
        "id": "44snPB7IqUV4"
      },
      "source": [
        "## Score de Segmentación\n",
        "<p>El algoritmo de k-means nos da una segmentación generalizada, pero podemos personalizarla aún más creando una métrica que asigne una calificación al valor del cluster. Esto es lo que vamos a hacer!!</p>"
      ]
    },
    {
      "cell_type": "code",
      "metadata": {
        "id": "dpsLpjzUqUV4"
      },
      "source": [
        "# Vamos a crear nuestro score sumando el valor de cada uno de los clusters\n",
        "customer['SCORE'] = ____ + ____ + ____\n",
        "\n",
        "# Obtener el promedio para cada una de las métricas de las calificaciones creadas (Score)\n",
        "____.mean()"
      ],
      "execution_count": null,
      "outputs": []
    },
    {
      "cell_type": "code",
      "metadata": {
        "id": "xvRd4BrkqUV4"
      },
      "source": [
        "# Crea una funcion que asigne lo siguiente: \n",
        "# Si score <= 1 entonces 'Low-Value', si score >1 y <=4 entonces 'Average', si score >4 y <=6 entonces 'Potential', por último si score >6 entonces 'High-Value'\n",
        "def segment(score):\n",
        "\n",
        "\n",
        "\n",
        "\n",
        "\n",
        "\n",
        "\n",
        "# Crear una columna aplicando esta función al campo 'SCORE'\n",
        "customer['SEGMENT'] = ____"
      ],
      "execution_count": null,
      "outputs": []
    },
    {
      "cell_type": "code",
      "metadata": {
        "id": "NoemlWP4qUV5"
      },
      "source": [
        "# Vamos a dar un vistazo a la tabla final\n",
        "customer.head()"
      ],
      "execution_count": null,
      "outputs": []
    },
    {
      "cell_type": "code",
      "metadata": {
        "id": "HFk2kKHgqUV5"
      },
      "source": [
        "# Imprime la proporción o el total de clientes por segmento\n",
        "____"
      ],
      "execution_count": null,
      "outputs": []
    },
    {
      "cell_type": "code",
      "metadata": {
        "id": "UAt3kbuRqUV6"
      },
      "source": [
        "# Define un estilo 'bmh'\n",
        "____\n",
        "\n",
        "# Filtra los valores para RECENCY < 4000\n",
        "____\n",
        "\n",
        "# Crea un grafico de dispersion de 'MONETARY' VS 'RECENCY' por Segmento\n",
        "____\n",
        "\n",
        "\n",
        "\n",
        "\n"
      ],
      "execution_count": null,
      "outputs": []
    },
    {
      "cell_type": "code",
      "metadata": {
        "id": "UljP0w_7qUV6"
      },
      "source": [
        "# Crea un grafico de dispersion de 'MONETARY' vs 'FREQUENCY' vs  por Segmento\n",
        "____\n",
        "\n",
        "\n",
        "\n"
      ],
      "execution_count": null,
      "outputs": []
    }
  ]
}