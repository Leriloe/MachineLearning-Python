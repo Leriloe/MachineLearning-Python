{
  "nbformat": 4,
  "nbformat_minor": 0,
  "metadata": {
    "kernelspec": {
      "display_name": "Python 3",
      "language": "python",
      "name": "python3"
    },
    "language_info": {
      "codemirror_mode": {
        "name": "ipython",
        "version": 3
      },
      "file_extension": ".py",
      "mimetype": "text/x-python",
      "name": "python",
      "nbconvert_exporter": "python",
      "pygments_lexer": "ipython3",
      "version": "3.8.5"
    },
    "colab": {
      "name": "4. System Recomendation.ipynb",
      "provenance": [],
      "include_colab_link": true
    }
  },
  "cells": [
    {
      "cell_type": "markdown",
      "metadata": {
        "id": "view-in-github",
        "colab_type": "text"
      },
      "source": [
        "<a href=\"https://colab.research.google.com/github/Leriloe/MachineLearning-Python/blob/main/4_System_Recomendation.ipynb\" target=\"_parent\"><img src=\"https://colab.research.google.com/assets/colab-badge.svg\" alt=\"Open In Colab\"/></a>"
      ]
    },
    {
      "cell_type": "markdown",
      "metadata": {
        "id": "Bsc6h59aXkjb"
      },
      "source": [
        "# <span style='color:blue'> <center>Unsupervised Learning</center> </span>\n",
        "## **Chapter 4.** System Recomendation\n",
        "#### by **Ivan Alducin**\n",
        "\n",
        "<p><img src=\"https://www.extremetech.com/wp-content/uploads/2016/03/Netflix-Feature.jpg\" , width=1000/></p>"
      ]
    },
    {
      "cell_type": "markdown",
      "metadata": {
        "id": "zfObHgtnXkjj"
      },
      "source": [
        "<p>En este capítulo usaremos algunas tecnicas de procesamiento de texto para poder crear un sistema de recomendación para peliculas y series de Netflix. ¿Estas listo?</p>"
      ]
    },
    {
      "cell_type": "code",
      "metadata": {
        "colab": {
          "base_uri": "https://localhost:8080/",
          "height": 694
        },
        "id": "qOITy-yzXkjk",
        "outputId": "6d7df4fd-cbbc-40c2-c532-e0278b9394ee"
      },
      "source": [
        "# Importa Pandas, Numpy, Seaborn y Matplotlib\n",
        "import pandas as pd\n",
        "import numpy as np\n",
        "import seaborn as sns\n",
        "import matplotlib.pyplot as plt\n",
        "\n",
        "# Importa el archivo \"netflix_titles.csv\"\n",
        "df = pd.read_csv('netflix_titles.csv')\n",
        "df.head()"
      ],
      "execution_count": 17,
      "outputs": [
        {
          "output_type": "execute_result",
          "data": {
            "text/html": [
              "<div>\n",
              "<style scoped>\n",
              "    .dataframe tbody tr th:only-of-type {\n",
              "        vertical-align: middle;\n",
              "    }\n",
              "\n",
              "    .dataframe tbody tr th {\n",
              "        vertical-align: top;\n",
              "    }\n",
              "\n",
              "    .dataframe thead th {\n",
              "        text-align: right;\n",
              "    }\n",
              "</style>\n",
              "<table border=\"1\" class=\"dataframe\">\n",
              "  <thead>\n",
              "    <tr style=\"text-align: right;\">\n",
              "      <th></th>\n",
              "      <th>show_id</th>\n",
              "      <th>type</th>\n",
              "      <th>title</th>\n",
              "      <th>director</th>\n",
              "      <th>cast</th>\n",
              "      <th>country</th>\n",
              "      <th>date_added</th>\n",
              "      <th>release_year</th>\n",
              "      <th>rating</th>\n",
              "      <th>duration</th>\n",
              "      <th>listed_in</th>\n",
              "      <th>description</th>\n",
              "    </tr>\n",
              "  </thead>\n",
              "  <tbody>\n",
              "    <tr>\n",
              "      <th>0</th>\n",
              "      <td>s1</td>\n",
              "      <td>TV Show</td>\n",
              "      <td>3%</td>\n",
              "      <td>NaN</td>\n",
              "      <td>João Miguel, Bianca Comparato, Michel Gomes, R...</td>\n",
              "      <td>Brazil</td>\n",
              "      <td>August 14, 2020</td>\n",
              "      <td>2020</td>\n",
              "      <td>TV-MA</td>\n",
              "      <td>4 Seasons</td>\n",
              "      <td>International TV Shows, TV Dramas, TV Sci-Fi &amp;...</td>\n",
              "      <td>In a future where the elite inhabit an island ...</td>\n",
              "    </tr>\n",
              "    <tr>\n",
              "      <th>1</th>\n",
              "      <td>s2</td>\n",
              "      <td>Movie</td>\n",
              "      <td>7:19</td>\n",
              "      <td>Jorge Michel Grau</td>\n",
              "      <td>Demián Bichir, Héctor Bonilla, Oscar Serrano, ...</td>\n",
              "      <td>Mexico</td>\n",
              "      <td>December 23, 2016</td>\n",
              "      <td>2016</td>\n",
              "      <td>TV-MA</td>\n",
              "      <td>93 min</td>\n",
              "      <td>Dramas, International Movies</td>\n",
              "      <td>After a devastating earthquake hits Mexico Cit...</td>\n",
              "    </tr>\n",
              "    <tr>\n",
              "      <th>2</th>\n",
              "      <td>s3</td>\n",
              "      <td>Movie</td>\n",
              "      <td>23:59</td>\n",
              "      <td>Gilbert Chan</td>\n",
              "      <td>Tedd Chan, Stella Chung, Henley Hii, Lawrence ...</td>\n",
              "      <td>Singapore</td>\n",
              "      <td>December 20, 2018</td>\n",
              "      <td>2011</td>\n",
              "      <td>R</td>\n",
              "      <td>78 min</td>\n",
              "      <td>Horror Movies, International Movies</td>\n",
              "      <td>When an army recruit is found dead, his fellow...</td>\n",
              "    </tr>\n",
              "    <tr>\n",
              "      <th>3</th>\n",
              "      <td>s4</td>\n",
              "      <td>Movie</td>\n",
              "      <td>9</td>\n",
              "      <td>Shane Acker</td>\n",
              "      <td>Elijah Wood, John C. Reilly, Jennifer Connelly...</td>\n",
              "      <td>United States</td>\n",
              "      <td>November 16, 2017</td>\n",
              "      <td>2009</td>\n",
              "      <td>PG-13</td>\n",
              "      <td>80 min</td>\n",
              "      <td>Action &amp; Adventure, Independent Movies, Sci-Fi...</td>\n",
              "      <td>In a postapocalyptic world, rag-doll robots hi...</td>\n",
              "    </tr>\n",
              "    <tr>\n",
              "      <th>4</th>\n",
              "      <td>s5</td>\n",
              "      <td>Movie</td>\n",
              "      <td>21</td>\n",
              "      <td>Robert Luketic</td>\n",
              "      <td>Jim Sturgess, Kevin Spacey, Kate Bosworth, Aar...</td>\n",
              "      <td>United States</td>\n",
              "      <td>January 1, 2020</td>\n",
              "      <td>2008</td>\n",
              "      <td>PG-13</td>\n",
              "      <td>123 min</td>\n",
              "      <td>Dramas</td>\n",
              "      <td>A brilliant group of students become card-coun...</td>\n",
              "    </tr>\n",
              "  </tbody>\n",
              "</table>\n",
              "</div>"
            ],
            "text/plain": [
              "  show_id  ...                                        description\n",
              "0      s1  ...  In a future where the elite inhabit an island ...\n",
              "1      s2  ...  After a devastating earthquake hits Mexico Cit...\n",
              "2      s3  ...  When an army recruit is found dead, his fellow...\n",
              "3      s4  ...  In a postapocalyptic world, rag-doll robots hi...\n",
              "4      s5  ...  A brilliant group of students become card-coun...\n",
              "\n",
              "[5 rows x 12 columns]"
            ]
          },
          "metadata": {},
          "execution_count": 17
        }
      ]
    },
    {
      "cell_type": "code",
      "metadata": {
        "colab": {
          "base_uri": "https://localhost:8080/"
        },
        "id": "5FTa99qxXkjn",
        "outputId": "662130ad-c1f4-4968-a62c-2f3edd2a38c2"
      },
      "source": [
        "# Haz una pequeña exploración del DataFrame\n",
        "df.info()"
      ],
      "execution_count": 18,
      "outputs": [
        {
          "output_type": "stream",
          "name": "stdout",
          "text": [
            "<class 'pandas.core.frame.DataFrame'>\n",
            "RangeIndex: 7787 entries, 0 to 7786\n",
            "Data columns (total 12 columns):\n",
            " #   Column        Non-Null Count  Dtype \n",
            "---  ------        --------------  ----- \n",
            " 0   show_id       7787 non-null   object\n",
            " 1   type          7787 non-null   object\n",
            " 2   title         7787 non-null   object\n",
            " 3   director      5398 non-null   object\n",
            " 4   cast          7069 non-null   object\n",
            " 5   country       7280 non-null   object\n",
            " 6   date_added    7777 non-null   object\n",
            " 7   release_year  7787 non-null   int64 \n",
            " 8   rating        7780 non-null   object\n",
            " 9   duration      7787 non-null   object\n",
            " 10  listed_in     7787 non-null   object\n",
            " 11  description   7787 non-null   object\n",
            "dtypes: int64(1), object(11)\n",
            "memory usage: 730.2+ KB\n"
          ]
        }
      ]
    },
    {
      "cell_type": "markdown",
      "metadata": {
        "id": "P_v1RlXpXkjn"
      },
      "source": [
        "## Data Cleansing\n",
        "<p>Previo a crear el algoritmo que nos va a permitir desarrollar el sistema de recomedación y del cual hablaremos más adelante, tenemos que trabajar en depurar los datos para poder garantizar el mejor resultado posible y evitar incosistencias en la información</p>"
      ]
    },
    {
      "cell_type": "code",
      "metadata": {
        "id": "wJzKGVULXkjo"
      },
      "source": [
        "# Coloca la moda dentro de las variables de 'country', 'date_added' y 'rating', esto para evitar depurar por completo datos nulos\n",
        "df['country'] = df['country'].fillna(df['country'].mode()[0])\n",
        "\n",
        "df['date_added'] = df['date_added'].fillna(df['date_added'].mode()[0])\n",
        "\n",
        "df['rating'] = df['rating'].fillna(df['rating'].mode()[0])"
      ],
      "execution_count": 19,
      "outputs": []
    },
    {
      "cell_type": "code",
      "metadata": {
        "colab": {
          "base_uri": "https://localhost:8080/"
        },
        "id": "i4d8G5ivXkjp",
        "outputId": "3f6718e6-68e6-40e3-fa4b-aaa7f2708390"
      },
      "source": [
        "# Verifica la cantidad de datos nulos existentes en el DataFrame\n",
        "df.isnull().sum()"
      ],
      "execution_count": 20,
      "outputs": [
        {
          "output_type": "execute_result",
          "data": {
            "text/plain": [
              "show_id            0\n",
              "type               0\n",
              "title              0\n",
              "director        2389\n",
              "cast             718\n",
              "country            0\n",
              "date_added         0\n",
              "release_year       0\n",
              "rating             0\n",
              "duration           0\n",
              "listed_in          0\n",
              "description        0\n",
              "dtype: int64"
            ]
          },
          "metadata": {},
          "execution_count": 20
        }
      ]
    },
    {
      "cell_type": "markdown",
      "metadata": {
        "id": "engd-j-dXkjr"
      },
      "source": [
        "## Feature Engineering\n",
        "<p>Vamos a crear algunas variables que nos van a ayudar a entender de mejor manera el contexto de la información que estamos trabajando, previo a proceder a crear el sistema de recomendación</p>"
      ]
    },
    {
      "cell_type": "code",
      "metadata": {
        "colab": {
          "base_uri": "https://localhost:8080/",
          "height": 571
        },
        "id": "IAKD989lao4G",
        "outputId": "3bd56364-2421-45bf-969a-92557a5eaa46"
      },
      "source": [
        "df['Genre'] = df['Genre'].str.split(',')[0]"
      ],
      "execution_count": 21,
      "outputs": [
        {
          "output_type": "error",
          "ename": "KeyError",
          "evalue": "ignored",
          "traceback": [
            "\u001b[0;31m---------------------------------------------------------------------------\u001b[0m",
            "\u001b[0;31mKeyError\u001b[0m                                  Traceback (most recent call last)",
            "\u001b[0;32m/usr/local/lib/python3.7/dist-packages/pandas/core/indexes/base.py\u001b[0m in \u001b[0;36mget_loc\u001b[0;34m(self, key, method, tolerance)\u001b[0m\n\u001b[1;32m   2897\u001b[0m             \u001b[0;32mtry\u001b[0m\u001b[0;34m:\u001b[0m\u001b[0;34m\u001b[0m\u001b[0;34m\u001b[0m\u001b[0m\n\u001b[0;32m-> 2898\u001b[0;31m                 \u001b[0;32mreturn\u001b[0m \u001b[0mself\u001b[0m\u001b[0;34m.\u001b[0m\u001b[0m_engine\u001b[0m\u001b[0;34m.\u001b[0m\u001b[0mget_loc\u001b[0m\u001b[0;34m(\u001b[0m\u001b[0mcasted_key\u001b[0m\u001b[0;34m)\u001b[0m\u001b[0;34m\u001b[0m\u001b[0;34m\u001b[0m\u001b[0m\n\u001b[0m\u001b[1;32m   2899\u001b[0m             \u001b[0;32mexcept\u001b[0m \u001b[0mKeyError\u001b[0m \u001b[0;32mas\u001b[0m \u001b[0merr\u001b[0m\u001b[0;34m:\u001b[0m\u001b[0;34m\u001b[0m\u001b[0;34m\u001b[0m\u001b[0m\n",
            "\u001b[0;32mpandas/_libs/index.pyx\u001b[0m in \u001b[0;36mpandas._libs.index.IndexEngine.get_loc\u001b[0;34m()\u001b[0m\n",
            "\u001b[0;32mpandas/_libs/index.pyx\u001b[0m in \u001b[0;36mpandas._libs.index.IndexEngine.get_loc\u001b[0;34m()\u001b[0m\n",
            "\u001b[0;32mpandas/_libs/hashtable_class_helper.pxi\u001b[0m in \u001b[0;36mpandas._libs.hashtable.PyObjectHashTable.get_item\u001b[0;34m()\u001b[0m\n",
            "\u001b[0;32mpandas/_libs/hashtable_class_helper.pxi\u001b[0m in \u001b[0;36mpandas._libs.hashtable.PyObjectHashTable.get_item\u001b[0;34m()\u001b[0m\n",
            "\u001b[0;31mKeyError\u001b[0m: 'Genre'",
            "\nThe above exception was the direct cause of the following exception:\n",
            "\u001b[0;31mKeyError\u001b[0m                                  Traceback (most recent call last)",
            "\u001b[0;32m<ipython-input-21-1f76d9b1bb1b>\u001b[0m in \u001b[0;36m<module>\u001b[0;34m()\u001b[0m\n\u001b[0;32m----> 1\u001b[0;31m \u001b[0mdf\u001b[0m\u001b[0;34m[\u001b[0m\u001b[0;34m'Genre'\u001b[0m\u001b[0;34m]\u001b[0m \u001b[0;34m=\u001b[0m \u001b[0mdf\u001b[0m\u001b[0;34m[\u001b[0m\u001b[0;34m'Genre'\u001b[0m\u001b[0;34m]\u001b[0m\u001b[0;34m.\u001b[0m\u001b[0mstr\u001b[0m\u001b[0;34m.\u001b[0m\u001b[0msplit\u001b[0m\u001b[0;34m(\u001b[0m\u001b[0;34m','\u001b[0m\u001b[0;34m)\u001b[0m\u001b[0;34m[\u001b[0m\u001b[0;36m0\u001b[0m\u001b[0;34m]\u001b[0m\u001b[0;34m\u001b[0m\u001b[0;34m\u001b[0m\u001b[0m\n\u001b[0m",
            "\u001b[0;32m/usr/local/lib/python3.7/dist-packages/pandas/core/frame.py\u001b[0m in \u001b[0;36m__getitem__\u001b[0;34m(self, key)\u001b[0m\n\u001b[1;32m   2904\u001b[0m             \u001b[0;32mif\u001b[0m \u001b[0mself\u001b[0m\u001b[0;34m.\u001b[0m\u001b[0mcolumns\u001b[0m\u001b[0;34m.\u001b[0m\u001b[0mnlevels\u001b[0m \u001b[0;34m>\u001b[0m \u001b[0;36m1\u001b[0m\u001b[0;34m:\u001b[0m\u001b[0;34m\u001b[0m\u001b[0;34m\u001b[0m\u001b[0m\n\u001b[1;32m   2905\u001b[0m                 \u001b[0;32mreturn\u001b[0m \u001b[0mself\u001b[0m\u001b[0;34m.\u001b[0m\u001b[0m_getitem_multilevel\u001b[0m\u001b[0;34m(\u001b[0m\u001b[0mkey\u001b[0m\u001b[0;34m)\u001b[0m\u001b[0;34m\u001b[0m\u001b[0;34m\u001b[0m\u001b[0m\n\u001b[0;32m-> 2906\u001b[0;31m             \u001b[0mindexer\u001b[0m \u001b[0;34m=\u001b[0m \u001b[0mself\u001b[0m\u001b[0;34m.\u001b[0m\u001b[0mcolumns\u001b[0m\u001b[0;34m.\u001b[0m\u001b[0mget_loc\u001b[0m\u001b[0;34m(\u001b[0m\u001b[0mkey\u001b[0m\u001b[0;34m)\u001b[0m\u001b[0;34m\u001b[0m\u001b[0;34m\u001b[0m\u001b[0m\n\u001b[0m\u001b[1;32m   2907\u001b[0m             \u001b[0;32mif\u001b[0m \u001b[0mis_integer\u001b[0m\u001b[0;34m(\u001b[0m\u001b[0mindexer\u001b[0m\u001b[0;34m)\u001b[0m\u001b[0;34m:\u001b[0m\u001b[0;34m\u001b[0m\u001b[0;34m\u001b[0m\u001b[0m\n\u001b[1;32m   2908\u001b[0m                 \u001b[0mindexer\u001b[0m \u001b[0;34m=\u001b[0m \u001b[0;34m[\u001b[0m\u001b[0mindexer\u001b[0m\u001b[0;34m]\u001b[0m\u001b[0;34m\u001b[0m\u001b[0;34m\u001b[0m\u001b[0m\n",
            "\u001b[0;32m/usr/local/lib/python3.7/dist-packages/pandas/core/indexes/base.py\u001b[0m in \u001b[0;36mget_loc\u001b[0;34m(self, key, method, tolerance)\u001b[0m\n\u001b[1;32m   2898\u001b[0m                 \u001b[0;32mreturn\u001b[0m \u001b[0mself\u001b[0m\u001b[0;34m.\u001b[0m\u001b[0m_engine\u001b[0m\u001b[0;34m.\u001b[0m\u001b[0mget_loc\u001b[0m\u001b[0;34m(\u001b[0m\u001b[0mcasted_key\u001b[0m\u001b[0;34m)\u001b[0m\u001b[0;34m\u001b[0m\u001b[0;34m\u001b[0m\u001b[0m\n\u001b[1;32m   2899\u001b[0m             \u001b[0;32mexcept\u001b[0m \u001b[0mKeyError\u001b[0m \u001b[0;32mas\u001b[0m \u001b[0merr\u001b[0m\u001b[0;34m:\u001b[0m\u001b[0;34m\u001b[0m\u001b[0;34m\u001b[0m\u001b[0m\n\u001b[0;32m-> 2900\u001b[0;31m                 \u001b[0;32mraise\u001b[0m \u001b[0mKeyError\u001b[0m\u001b[0;34m(\u001b[0m\u001b[0mkey\u001b[0m\u001b[0;34m)\u001b[0m \u001b[0;32mfrom\u001b[0m \u001b[0merr\u001b[0m\u001b[0;34m\u001b[0m\u001b[0;34m\u001b[0m\u001b[0m\n\u001b[0m\u001b[1;32m   2901\u001b[0m \u001b[0;34m\u001b[0m\u001b[0m\n\u001b[1;32m   2902\u001b[0m         \u001b[0;32mif\u001b[0m \u001b[0mtolerance\u001b[0m \u001b[0;32mis\u001b[0m \u001b[0;32mnot\u001b[0m \u001b[0;32mNone\u001b[0m\u001b[0;34m:\u001b[0m\u001b[0;34m\u001b[0m\u001b[0;34m\u001b[0m\u001b[0m\n",
            "\u001b[0;31mKeyError\u001b[0m: 'Genre'"
          ]
        }
      ]
    },
    {
      "cell_type": "code",
      "metadata": {
        "colab": {
          "base_uri": "https://localhost:8080/"
        },
        "id": "zZFRUKY_Xkjs",
        "outputId": "f099dd48-0f95-4714-95d8-0118b6167233"
      },
      "source": [
        "# Cambia el valor de la columna 'listed_in' que es la variable que describe el genero de la pelicula/serie por 'Genre'\n",
        "df = df.rename(columns={'listed_in':'Genre'})\n",
        "\n",
        "# Observa que una pelicula/serie puede ser clasificada con mas de un genero, para este caso, usaremos el primero.\n",
        "df['Genre'] = df['Genre'].apply(lambda x: x.split(\",\")[0])\n",
        "df['Genre']"
      ],
      "execution_count": 22,
      "outputs": [
        {
          "output_type": "execute_result",
          "data": {
            "text/plain": [
              "0       International TV Shows\n",
              "1                       Dramas\n",
              "2                Horror Movies\n",
              "3           Action & Adventure\n",
              "4                       Dramas\n",
              "                 ...          \n",
              "7782                    Dramas\n",
              "7783                    Dramas\n",
              "7784             Documentaries\n",
              "7785    International TV Shows\n",
              "7786             Documentaries\n",
              "Name: Genre, Length: 7787, dtype: object"
            ]
          },
          "metadata": {},
          "execution_count": 22
        }
      ]
    },
    {
      "cell_type": "code",
      "metadata": {
        "colab": {
          "base_uri": "https://localhost:8080/"
        },
        "id": "NZ05ywvWbBZ3",
        "outputId": "6d290569-a406-4ef0-a5be-9fb0fdd78a78"
      },
      "source": [
        "r = df['date_added']\n",
        "r"
      ],
      "execution_count": 10,
      "outputs": [
        {
          "output_type": "execute_result",
          "data": {
            "text/plain": [
              "0          August 14, 2020\n",
              "1        December 23, 2016\n",
              "2        December 20, 2018\n",
              "3        November 16, 2017\n",
              "4          January 1, 2020\n",
              "               ...        \n",
              "7782      October 19, 2020\n",
              "7783         March 2, 2019\n",
              "7784    September 25, 2020\n",
              "7785      October 31, 2020\n",
              "7786         March 1, 2020\n",
              "Name: date_added, Length: 7787, dtype: object"
            ]
          },
          "metadata": {},
          "execution_count": 10
        }
      ]
    },
    {
      "cell_type": "code",
      "metadata": {
        "colab": {
          "base_uri": "https://localhost:8080/"
        },
        "id": "yPws-LcJXkju",
        "outputId": "b522c09f-2f82-4cc3-f44b-1e2e3b75d0db"
      },
      "source": [
        "# Crea una columna con el año en el cual se agrego el contenido a Netflix\n",
        "df['year_add'] = df['date_added'].apply(lambda y: y.split(\",\")[0])\n",
        "df['year_add'] "
      ],
      "execution_count": 23,
      "outputs": [
        {
          "output_type": "execute_result",
          "data": {
            "text/plain": [
              "0          August 14\n",
              "1        December 23\n",
              "2        December 20\n",
              "3        November 16\n",
              "4          January 1\n",
              "            ...     \n",
              "7782      October 19\n",
              "7783         March 2\n",
              "7784    September 25\n",
              "7785      October 31\n",
              "7786         March 1\n",
              "Name: year_add, Length: 7787, dtype: object"
            ]
          },
          "metadata": {},
          "execution_count": 23
        }
      ]
    },
    {
      "cell_type": "code",
      "metadata": {
        "id": "ujvP12WpXkjv"
      },
      "source": [
        "# Haz lo mismo para la columna mes y para la columna del país principal donde la pelicula/serie fue producida \n",
        "df['month_add'] = df['date_added'].apply(lambda y: y.split(\" \")[0])\n",
        "\n",
        "df['country_main'] = df['country'].apply(lambda y: y.split(\",\")[0])"
      ],
      "execution_count": 24,
      "outputs": []
    },
    {
      "cell_type": "markdown",
      "metadata": {
        "id": "QmgmqjTWXkjw"
      },
      "source": [
        "## Exploratory Data Analysis\n",
        "<p>Entender el contexto de la información es la parte fundamental de un proceso de Machine Learning, ya que esto es justo lo que nos da el entendimiento y el contexto del problema para que con esto podamos desarrollar algoritmos con mayor poder de predicción usando toda esa información y la experiencia y conocimiento que obtengamos de esta</p>"
      ]
    },
    {
      "cell_type": "code",
      "metadata": {
        "id": "NsbTBolZXkjw"
      },
      "source": [
        "# ¿Que tipo de contenido predomina en Netflix, Series o Peliculas?\n",
        "____"
      ],
      "execution_count": null,
      "outputs": []
    },
    {
      "cell_type": "code",
      "metadata": {
        "id": "EE_CkgDPXkjx"
      },
      "source": [
        "# Las peliculas y las series se deben de estudiar de diferente manera, así que vamos dividir el DataFrame en los dos tipos de contenido\n",
        "movie = ____\n",
        "serie = ____"
      ],
      "execution_count": null,
      "outputs": []
    },
    {
      "cell_type": "code",
      "metadata": {
        "id": "v34wEoSKXkjx"
      },
      "source": [
        "# ¿Cual es la duración media de una pelicula?\n",
        "movie['duration'] = ____\n",
        "\n",
        "# Visualiza un histograma para la duración\n",
        "____"
      ],
      "execution_count": null,
      "outputs": []
    },
    {
      "cell_type": "code",
      "metadata": {
        "id": "rcBaqrOQXkjy"
      },
      "source": [
        "# Cuales son las peliculas de mayor duración?\n",
        "____"
      ],
      "execution_count": null,
      "outputs": []
    },
    {
      "cell_type": "code",
      "metadata": {
        "id": "adUgh0IEXkjz"
      },
      "source": [
        "# Que país es el mayor productor de contenido para peliculas?\n",
        "____"
      ],
      "execution_count": null,
      "outputs": []
    },
    {
      "cell_type": "code",
      "metadata": {
        "id": "NStXO3YQXkjz"
      },
      "source": [
        "# Cuales son las series con mayor número de temporadas?\n",
        "____"
      ],
      "execution_count": null,
      "outputs": []
    },
    {
      "cell_type": "code",
      "metadata": {
        "id": "d9gm64cZXkj0"
      },
      "source": [
        "# Que país es el mayor productor de contenido para series?\n",
        "____"
      ],
      "execution_count": null,
      "outputs": []
    },
    {
      "cell_type": "code",
      "metadata": {
        "id": "Zx-CMViMXkj0"
      },
      "source": [
        "# En general cual es el genero más popular de contenido en Netflix?\n",
        "____"
      ],
      "execution_count": null,
      "outputs": []
    },
    {
      "cell_type": "code",
      "metadata": {
        "id": "d2Z3BI3TXkj1"
      },
      "source": [
        "# Como ha sido la evolución de producción de contenido en Netflix durante los últimos años?\n",
        "____"
      ],
      "execution_count": null,
      "outputs": []
    },
    {
      "cell_type": "markdown",
      "metadata": {
        "id": "Fp55sv4TXkj1"
      },
      "source": [
        "## Tipos de Sistemas de Recomendación \n",
        "<p>Existen dos tipos de metodología para poder diseñar un Sistema de recomendación, uno es el Colaborativo y otro es el basado en Contenido, la diferencia radica justo en la parte de recomendación entre usuarios y la recomendación directa con base en las caracteristicas o el contenido del objeto que se quiere recomendar.\n",
        "El siguiente diagrama nos ayudara a entender de mejor manera.</p>\n",
        "<p>\n",
        ".\n",
        ".\n",
        ".\n",
        "</p>\n",
        "\n",
        "<div style=\"text-align: center\"><img src=\"https://miro.medium.com/max/998/1*O_GU8xLVlFx8WweIzKNCNw.png\", width=750 =/></div>"
      ]
    },
    {
      "cell_type": "code",
      "metadata": {
        "id": "u0aWQF2MXkj1"
      },
      "source": [
        "# Crea una lista con los campos de título, descripción y genero\n",
        "features = ['title','description','Genre']\n",
        "\n",
        "# Selecciona dentro del DataFrame principal los campos de la lista\n",
        "df_features = df[features].reset_index()"
      ],
      "execution_count": 25,
      "outputs": []
    },
    {
      "cell_type": "code",
      "metadata": {
        "id": "0XRGUBepXkj1"
      },
      "source": [
        "# Vamos a usar esta función auxiliar para limpieza procesamiento de texto\n",
        "def clean_data(x):\n",
        "    x = str(x)\n",
        "    return str.lower(x.replace(\" \", \"\"))"
      ],
      "execution_count": 26,
      "outputs": []
    },
    {
      "cell_type": "code",
      "metadata": {
        "id": "Jx9ASvR-Xkj2"
      },
      "source": [
        "# Usa esta función para cada una de las variables del DataFrame que acabas de crear \n",
        "for f in features:\n",
        "    df_features[f] = df_features[f].apply(clean_data)"
      ],
      "execution_count": 27,
      "outputs": []
    },
    {
      "cell_type": "code",
      "metadata": {
        "colab": {
          "base_uri": "https://localhost:8080/"
        },
        "id": "WmDNxPWFXkj2",
        "outputId": "5aa7c799-13d6-4d81-8da7-2f24e1281cc2"
      },
      "source": [
        "# Concatena las variables dentro de una nueva columna ('soup')\n",
        "df_features['soup'] = df_features[features].sum(axis=1)\n",
        "df_features['soup'].head()"
      ],
      "execution_count": 28,
      "outputs": [
        {
          "output_type": "execute_result",
          "data": {
            "text/plain": [
              "0    3%inafuturewheretheeliteinhabitanislandparadis...\n",
              "1    7:19afteradevastatingearthquakehitsmexicocity,...\n",
              "2    23:59whenanarmyrecruitisfounddead,hisfellowsol...\n",
              "3    9inapostapocalypticworld,rag-dollrobotshideinf...\n",
              "4    21abrilliantgroupofstudentsbecomecard-counting...\n",
              "Name: soup, dtype: object"
            ]
          },
          "metadata": {},
          "execution_count": 28
        }
      ]
    },
    {
      "cell_type": "code",
      "metadata": {
        "id": "9ui-4BLcXkj2"
      },
      "source": [
        "# Importa las librerías necesarias\n",
        "from sklearn.feature_extraction.text import CountVectorizer\n",
        "from sklearn.metrics.pairwise import cosine_similarity\n",
        "\n",
        "# Crea una matriz vectorizada\n",
        "count = CountVectorizer(stop_words='english')\n",
        "count_matrix = count.fit_transform(df_features['soup'])"
      ],
      "execution_count": 29,
      "outputs": []
    },
    {
      "cell_type": "code",
      "metadata": {
        "id": "j1e17YHpXkj2"
      },
      "source": [
        "# Calcula la similitud de la matriz por medio del coseno\n",
        "similarity = cosine_similarity(count_matrix,count_matrix)"
      ],
      "execution_count": 30,
      "outputs": []
    },
    {
      "cell_type": "code",
      "metadata": {
        "id": "B9xFnmUIXkj2"
      },
      "source": [
        "# Crea una serie donde el indice sean los titulos de las peliculas\n",
        "index = pd.Series(df_features.index, index=df_features['title'])"
      ],
      "execution_count": 31,
      "outputs": []
    },
    {
      "cell_type": "code",
      "metadata": {
        "id": "yyDvL9GFXkj3"
      },
      "source": [
        "# La siguiente función nos permitira crear la lista con las 10 peliculas que mas similitud tengan con el titulo que yo elija\n",
        "def get_recommendations(title, similarity = similarity):\n",
        "    \n",
        "    try:\n",
        "        # Quita los espacios del titulo ingresado y reemplazalo con minusculas\n",
        "        title = title.replace(\" \", \"\").lower()\n",
        "        \n",
        "        # Guardamos el indice del título que hayamos ingresado\n",
        "        idx = index[title]\n",
        "\n",
        "        # Obtenemos las similitudes de la lista de peliculas con el titulo elegido\n",
        "        sim_scores = list(enumerate(similarity[idx]))\n",
        "\n",
        "        # Ordenamos la lista de mayor a menor y obtenemos las primeras 10\n",
        "        sim_scores = sorted(sim_scores, key=lambda x: x[1], reverse=True)[1:11]\n",
        "\n",
        "        # Obtenemos el indice de el top 10 para poder buscarlas dentro de la lista completa\n",
        "        movie_index = [i[0] for i in sim_scores]\n",
        "\n",
        "        # Regresamos el nombre de las peliculas del top 10\n",
        "        return df['title'].iloc[movie_index]\n",
        "    \n",
        "    except:\n",
        "        print(\"Movie doesn't find in Netflix list\")"
      ],
      "execution_count": 33,
      "outputs": []
    },
    {
      "cell_type": "code",
      "metadata": {
        "colab": {
          "base_uri": "https://localhost:8080/"
        },
        "id": "V4N_lazOXkj3",
        "outputId": "6703056a-dbcb-458b-e4d2-e989b914b970"
      },
      "source": [
        "# Visualiza las recomendaciones\n",
        "get_recommendations('Naruto')"
      ],
      "execution_count": 38,
      "outputs": [
        {
          "output_type": "execute_result",
          "data": {
            "text/plain": [
              "1202             Cannon Busters\n",
              "2439    Glitter Force Doki Doki\n",
              "4487            No Game No Life\n",
              "5344                Saint Seiya\n",
              "141                      7SEEDS\n",
              "341                  Aggretsuko\n",
              "556                    忍者ハットリくん\n",
              "616             Attack on Titan\n",
              "703                        BAKI\n",
              "705      Bakugan: Battle Planet\n",
              "Name: title, dtype: object"
            ]
          },
          "metadata": {},
          "execution_count": 38
        }
      ]
    },
    {
      "cell_type": "code",
      "metadata": {
        "id": "Oo8JPxIJXkj3"
      },
      "source": [
        "# Prueba el sistema de recomendación agregando las columnas de actores, país de origen y director"
      ],
      "execution_count": null,
      "outputs": []
    }
  ]
}